{
 "cells": [
  {
   "cell_type": "markdown",
   "metadata": {},
   "source": [
    " ## Twitter Surveillance ##\n",
    "\n",
    "\n",
    "In the past 10 to 15 years, research connecting disease surveillance with internet data has seen rapid growth.  In the early days, work focussed exclusively on communicable disease surveillance (e.g. influenza, dengue) but now has extended into chronic diseases and health behavior (e.g. alcohol use, mental health).  Twitter, in particular is widely used due to the relative ease with which the data can be accessed, and the volume of data available.  However, a key issue in utilizing Twitter for health surveillance work is that tweets are text based, and hence require natural language processing techniques to extract relevant content.\n",
    "\n",
    "Examples of work that uses Twitter data for public health surveillance applications include Signorini et al. (2011) and Myslin et al. (2013). Signorini et al. used simple NLP methods to track rapidly evoloving public sentiment regarding H1NI (the swine flu epidemic of 2009), and also prevalence of flu in the community.  Myslin et al.  used Twitter data to investigate Twitter users' levels of informedness and attitudes towards both hookah and e-cigarettes, finding that Twitter users were much more well desposed towards hookah use compared to traditional combustible tobacco consumption.\n",
    "\n",
    "In this lab session we will use various methods to investigate a corpus of 30,000 randomly selected tweets, starting with characterising the dataset, then exploring language distribution on Twitter, before homing in on specific health-related questions concerning tobacco use.  \n",
    "\n",
    "Some of the the material covered will require you to consult the appropriate online documentation.\n",
    "\n",
    "\n",
    "\n",
    "### References\n",
    "\n",
    "- Myslin M, Zhu S, Chapman W, Conway M.  Using twitter to examine smoking behavior and perceptions of emerging tobacco products. 2013. 15(8):e174\n",
    "\n",
    "- Signorini A, Seggra A, Polgreen P.  The use of Twitter to track levels of disease activity and public concern in the U.S. during the influenza A H1N1 pandemic.  *PLOS One*.  2011 6(5):e19467\n",
    "\n"
   ]
  },
  {
   "cell_type": "markdown",
   "metadata": {},
   "source": [
    "### Loading Data ###\n",
    "\n",
    "Our first task is to load the data from the file \"00000001___Sat_May_18_11:48:09_PDT_2013.twitter\".  Each line in the file consists of a tweet and its associated metadata in JSON format.  JSON (JavasScript Object Notation) is a widely  used,  human readable, open source file format commonly used to transfer and store data.  While the standard was developed for JavaScript, it is a language independent format, frequently used in place of XML.  Compared with CSV data, JSON has a number of interesting characteristics, including the ability to represent hierarchical data structures.   This is an example of a tweet JSON object:\n",
    "\n",
    "```JSON\n",
    "{\"created_at\":\"Sat May 18 18:48:09 +0000 2013\",\"id\":335829176160489472,\"id_str\":\"335829176160489472\",\"text\":\"What's up with this whole coke thing?\",\"source\":\"\\u003ca href=\\\"http:\\/\\/twitter.com\\/#!\\/download\\/ipad\\\" rel=\\\"nofollow\\\"\\u003eTwitter for iPad\\u003c\\/a\\u003e\",\"truncated\":false,\"in_reply_to_status_id\":null,\"in_reply_to_status_id_str\":null,\"in_reply_to_user_id\":null,\"in_reply_to_user_id_str\":null,\"in_reply_to_screen_name\":null,\"user\":{\"id\":1256946714,\"id_str\":\"1256946714\",\"name\":\"maddie\",\"screen_name\":\"maddiesnellxo\",\"location\":\"brentwood yea\",\"url\":null,\"description\":\"brooklyn beckham and justin bieber x\",\"protected\":false,\"followers_count\":139,\"friends_count\":153,\"listed_count\":0,\"created_at\":\"Sun Mar 10 12:57:22 +0000 2013\",\"favourites_count\":59,\"utc_offset\":null,\"time_zone\":null,\"geo_enabled\":false,\"verified\":false,\"statuses_count\":743,\"lang\":\"en\",\"contributors_enabled\":false,\"is_translator\":false,\"profile_background_color\":\"010405\",\"profile_background_image_url\":\"http:\\/\\/a0.twimg.com\\/profile_background_images\\/866567612\\/aa0dd7d8ecdab90c8c2199de3a8b71cf.jpeg\",\"profile_background_image_url_https\":\"https:\\/\\/si0.twimg.com\\/profile_background_images\\/866567612\\/aa0dd7d8ecdab90c8c2199de3a8b71cf.jpeg\",\"profile_background_tile\":true,\"profile_image_url\":\"http:\\/\\/a0.twimg.com\\/profile_images\\/3638837356\\/55538b8753a2b6f4765315d56c723a88_normal.jpeg\",\"profile_image_url_https\":\"https:\\/\\/si0.twimg.com\\/profile_images\\/3638837356\\/55538b8753a2b6f4765315d56c723a88_normal.jpeg\",\"profile_banner_url\":\"https:\\/\\/pbs.twimg.com\\/profile_banners\\/1256946714\\/1368559459\",\"profile_link_color\":\"0084B4\",\"profile_sidebar_border_color\":\"FFFFFF\",\"profile_sidebar_fill_color\":\"DDEEF6\",\"profile_text_color\":\"333333\",\"profile_use_background_image\":true,\"default_profile\":false,\"default_profile_image\":false,\"following\":null,\"follow_request_sent\":null,\"notifications\":null},\"geo\":null,\"coordinates\":null,\"place\":null,\"contributors\":null,\"retweet_count\":0,\"favorite_count\":0,\"entities\":{\"hashtags\":[],\"symbols\":[],\"urls\":[],\"user_mentions\":[]},\"favorited\":false,\"retweeted\":false,\"filter_level\":\"medium\",\"lang\":\"en\"}\n",
    "```\n",
    "\n",
    "\n",
    "As you can see, this is very hard to read.  JSON objects can be pretty printed using the command (Unix command line) python -m json.tool.  The pretty printed JSON object looks like this:\n",
    "\n",
    "```JSON\n",
    "{\n",
    "    \"contributors\": null,\n",
    "    \"coordinates\": null,\n",
    "    \"created_at\": \"Sat May 18 18:48:09 +0000 2013\",\n",
    "    \"entities\": {\n",
    "        \"hashtags\": [],\n",
    "        \"symbols\": [],\n",
    "        \"urls\": [],\n",
    "        \"user_mentions\": []\n",
    "    },\n",
    "    \"favorite_count\": 0,\n",
    "    \"favorited\": false,\n",
    "    \"filter_level\": \"medium\",\n",
    "    \"geo\": null,\n",
    "    \"id\": 335829176160489472,\n",
    "    \"id_str\": \"335829176160489472\",\n",
    "    \"in_reply_to_screen_name\": null,\n",
    "    \"in_reply_to_status_id\": null,\n",
    "    \"in_reply_to_status_id_str\": null,\n",
    "    \"in_reply_to_user_id\": null,\n",
    "    \"in_reply_to_user_id_str\": null,\n",
    "    \"lang\": \"en\",\n",
    "    \"place\": null,\n",
    "    \"retweet_count\": 0,\n",
    "    \"retweeted\": false,\n",
    "    \"source\": \"<a href=\\\"http://twitter.com/#!/download/ipad\\\" rel=\\\"nofollow\\\">Twitter for iPad</a>\",\n",
    "    \"text\": \"What's up with this whole coke thing?\",\n",
    "    \"truncated\": false,\n",
    "    \"user\": {\n",
    "        \"contributors_enabled\": false,\n",
    "        \"created_at\": \"Sun Mar 10 12:57:22 +0000 2013\",\n",
    "        \"default_profile\": false,\n",
    "        \"default_profile_image\": false,\n",
    "        \"description\": \"brooklyn beckham and justin bieber x\",\n",
    "        \"favourites_count\": 59,\n",
    "        \"follow_request_sent\": null,\n",
    "        \"followers_count\": 139,\n",
    "        \"following\": null,\n",
    "        \"friends_count\": 153,\n",
    "        \"geo_enabled\": false,\n",
    "        \"id\": 1256946714,\n",
    "        \"id_str\": \"1256946714\",\n",
    "        \"is_translator\": false,\n",
    "        \"lang\": \"en\",\n",
    "        \"listed_count\": 0,\n",
    "        \"location\": \"brentwood yea\",\n",
    "        \"name\": \"maddie\",\n",
    "        \"notifications\": null,\n",
    "        \"profile_background_color\": \"010405\",\n",
    "        \"profile_background_image_url\": \"http://a0.twimg.com/profile_background_images/866567612/aa0dd7d8ecdab90c8c2199de3a8b71cf.jpeg\",\n",
    "        \"profile_background_image_url_https\": \"https://si0.twimg.com/profile_background_images/866567612/aa0dd7d8ecdab90c8c2199de3a8b71cf.jpeg\",\n",
    "        \"profile_background_tile\": true,\n",
    "        \"profile_banner_url\": \"https://pbs.twimg.com/profile_banners/1256946714/1368559459\",\n",
    "        \"profile_image_url\": \"http://a0.twimg.com/profile_images/3638837356/55538b8753a2b6f4765315d56c723a88_normal.jpeg\",\n",
    "        \"profile_image_url_https\": \"https://si0.twimg.com/profile_images/3638837356/55538b8753a2b6f4765315d56c723a88_normal.jpeg\",\n",
    "        \"profile_link_color\": \"0084B4\",\n",
    "        \"profile_sidebar_border_color\": \"FFFFFF\",\n",
    "        \"profile_sidebar_fill_color\": \"DDEEF6\",\n",
    "        \"profile_text_color\": \"333333\",\n",
    "        \"profile_use_background_image\": true,\n",
    "        \"protected\": false,\n",
    "        \"screen_name\": \"maddiesnellxo\",\n",
    "        \"statuses_count\": 743,\n",
    "        \"time_zone\": null,\n",
    "        \"url\": null,\n",
    "        \"utc_offset\": null,\n",
    "        \"verified\": false\n",
    "    }\n",
    "}\n",
    "```\n",
    "You can see that there is a bunch of information here regarding the tweet (tweet text/date/time/location/retweet/use of hashtags, etc.) and also the tweeter (i.e. the user).  You can see when the user joined, number of followers, number of friends, preferred language, and listed location.   Everytime a person tweets, a publicly accessible JSON object like this is created. \n",
    "\n",
    "The first thing you need to do is load the twitter data into memory.  Please execute the code below to load the data."
   ]
  },
  {
   "cell_type": "code",
   "execution_count": null,
   "metadata": {},
   "outputs": [],
   "source": [
    "from pypop.utils import *\n",
    "from pypop.view import *"
   ]
  },
  {
   "cell_type": "code",
   "execution_count": null,
   "metadata": {},
   "outputs": [],
   "source": [
    "\n",
    "data = get_twitter_data()"
   ]
  },
  {
   "cell_type": "markdown",
   "metadata": {},
   "source": [
    "Let's create a Python dictionary from the first tweet in the file.  The Python JSON module (\"json\") essentially converts a string that is syntacticly correct JSON into a Python dictionary that can be easily manipulated."
   ]
  },
  {
   "cell_type": "markdown",
   "metadata": {},
   "source": [
    "**Q1**:  Extract the language of this first tweet (e.g. Spanish, Chinese, French, English).  You can do this using the \"lang\" field. Currently, the first line of text is a string.  We need to transform this into a JSON object for manipulation.  This process involves using the \"loads\" method from the python json module and assigning that object to a variable (language)."
   ]
  },
  {
   "cell_type": "markdown",
   "metadata": {},
   "source": [
    "## What do the tweets look like?"
   ]
  },
  {
   "cell_type": "code",
   "execution_count": null,
   "metadata": {},
   "outputs": [],
   "source": [
    "ipw.interact(view_tweet_n, data=ipw.fixed(data), n=ipw.IntSlider(min=0, max=len(data)-1))"
   ]
  },
  {
   "cell_type": "markdown",
   "metadata": {},
   "source": [
    "### There is a lot of different kinds of tweet data\n",
    "#### We will split the data up by data that has a `user` field and data that does not"
   ]
  },
  {
   "cell_type": "code",
   "execution_count": null,
   "metadata": {},
   "outputs": [],
   "source": [
    "nouser = [t for t in data if \"user\" not in t]\n",
    "data = [t for t in data if \"user\" in t]\n",
    "print(len(nouser), len(data))"
   ]
  },
  {
   "cell_type": "markdown",
   "metadata": {},
   "source": [
    "### What does the nouser data look like?\n",
    "\n"
   ]
  },
  {
   "cell_type": "code",
   "execution_count": null,
   "metadata": {},
   "outputs": [],
   "source": [
    "ipw.interact(view_tweet_n, data=ipw.fixed(nouser), n=ipw.IntSlider(min=0, max=len(nouser)-1))"
   ]
  },
  {
   "cell_type": "code",
   "execution_count": null,
   "metadata": {},
   "outputs": [],
   "source": []
  },
  {
   "cell_type": "markdown",
   "metadata": {},
   "source": [
    "## What are all the possible key values in our tweets?"
   ]
  },
  {
   "cell_type": "code",
   "execution_count": null,
   "metadata": {},
   "outputs": [],
   "source": [
    "set.union(*([set(t.keys()) for t in data]))"
   ]
  },
  {
   "cell_type": "markdown",
   "metadata": {},
   "source": [
    "# What key values are in all of our tweets?"
   ]
  },
  {
   "cell_type": "code",
   "execution_count": null,
   "metadata": {},
   "outputs": [],
   "source": [
    "set.intersection(*([set(t.keys()) for t in data]))"
   ]
  },
  {
   "cell_type": "markdown",
   "metadata": {},
   "source": [
    "## I'm going to consider the text of the tweet as the data and everything else as meta-data"
   ]
  },
  {
   "cell_type": "markdown",
   "metadata": {},
   "source": [
    "### Q2 What are possible meta-data we would be interested in?"
   ]
  },
  {
   "cell_type": "code",
   "execution_count": null,
   "metadata": {},
   "outputs": [],
   "source": [
    "names = [t[\"user\"][\"name\"] for t in data ]\n",
    "languages = [t[\"user\"][\"lang\"] for t in data ]\n",
    "geo = [t[\"geo\"] for t in data if t[\"geo\"]]\n",
    "uids = geo = [t[\"user\"][\"id\"] for t in data]"
   ]
  },
  {
   "cell_type": "markdown",
   "metadata": {},
   "source": [
    "### Others?"
   ]
  },
  {
   "cell_type": "markdown",
   "metadata": {},
   "source": [
    "### How many unique values are there for these?"
   ]
  },
  {
   "cell_type": "code",
   "execution_count": null,
   "metadata": {},
   "outputs": [],
   "source": [
    "len(set(uids)), len(set(names))"
   ]
  },
  {
   "cell_type": "markdown",
   "metadata": {},
   "source": [
    "### What are the languages of the tweets?"
   ]
  },
  {
   "cell_type": "code",
   "execution_count": null,
   "metadata": {},
   "outputs": [],
   "source": [
    "count_to_df(languages).plot.bar()"
   ]
  },
  {
   "cell_type": "code",
   "execution_count": null,
   "metadata": {},
   "outputs": [],
   "source": [
    "c = Counter(languages)\n",
    "counter_to_df({get_lang(k):v for k,v in c.items()}).plot.bar()"
   ]
  },
  {
   "cell_type": "markdown",
   "metadata": {},
   "source": [
    "## Analyzing the text"
   ]
  },
  {
   "cell_type": "markdown",
   "metadata": {},
   "source": [
    "The next section consists of content focussed on the application of various methods for manipulating tweets.  Topics covered will be:\n",
    "\n",
    "* Sentiment analysis\n",
    "* Attitudes towards tobacco products  \n",
    "* Some simple operations with Pandas\n"
   ]
  },
  {
   "cell_type": "markdown",
   "metadata": {},
   "source": [
    "Now, we will iterate over the lines of the file.  For each tweet, we will convert the JSON string to a Python dictonary [\"json.loads(tweet)\"] and then append that dictionary to \"list\".  Note that the list variable has already been used for storing language categories, and therefore must be redefined (\"list = []\")."
   ]
  },
  {
   "cell_type": "markdown",
   "metadata": {},
   "source": [
    "### Grab the text"
   ]
  },
  {
   "cell_type": "code",
   "execution_count": null,
   "metadata": {},
   "outputs": [],
   "source": [
    "text_list = [t[\"text\"] for t in data if t[\"text\"] and t[\"user\"][\"lang\"]==\"en\"]\n",
    "print(len(text_list))"
   ]
  },
  {
   "cell_type": "markdown",
   "metadata": {},
   "source": [
    "Note that the number is different.  This is because a proportion of the tweets processed either contained no \"text\" field (KeyError), or weren't encoded in a standard way (ValueError).  "
   ]
  },
  {
   "cell_type": "markdown",
   "metadata": {},
   "source": [
    "Now we we will focus on performing sentiment analysis for the Twitter data set as a whole.  We will use the TextBlob Python module for this task (https://textblob.readthedocs.io/). Please see the examples below.   The polarity (sentiment) score is a float within the range [-1.0, 1.0]. Sentiment analysis has been used extensively for, among other things, understanding public attitudes towards vaccination.\n",
    "\n",
    "[Note that the Python language is named after Monty Python, and it has become a tradition to use Monty Python quotations as examples in Python tutorial material.  The quotations below are from \"Monty Python and the Holy Grail\"] "
   ]
  },
  {
   "cell_type": "code",
   "execution_count": null,
   "metadata": {},
   "outputs": [],
   "source": [
    "### EXAMPLE TEXTBLOB SENTIMENT ANALYSIS CODE ###\n",
    "\n",
    "### PLEASE RUN THIS CODE ###\n",
    "\n",
    "from textblob import TextBlob\n",
    "\n",
    "example1 = TextBlob(\"\"\" The Lady of the Lake, her arm clad in the purest shimmering,\n",
    "                    samite held aloft Excalibur from the bosom of the water,\n",
    "                    signifying by divine providence that I, Arthur,\n",
    "                    was to carry Excalibur. THAT is why I am your king.\"\"\")\n",
    "\n",
    "example2 = TextBlob(\"\"\"Listen. Strange women lying in ponds distributing swords\n",
    "                     is no basis for a system of government. Supreme executive power \n",
    "                     derives from a mandate from the masses, not from some farcical\n",
    "                     aquatic ceremony.\"\"\")\n",
    "\n",
    "print(example1.sentiment.polarity)\n",
    "print(example2.sentiment.polarity)\n"
   ]
  },
  {
   "cell_type": "markdown",
   "metadata": {},
   "source": [
    "**Q9:** Now that you've seen how the TextBlob sentiment analysis module works, I'd like you to perform sentiment analysis on all tweet texts from the variable \"text_list\" and identify (a) the number of positive tweets (i.e. polarity > 0.0), the number of negative tweets (i.e. polarity < 0.0), and the number of neutral tweets (i.e. polarity == 0.0)"
   ]
  },
  {
   "cell_type": "markdown",
   "metadata": {},
   "source": [
    "# Q9 Answer"
   ]
  },
  {
   "cell_type": "code",
   "execution_count": null,
   "metadata": {},
   "outputs": [],
   "source": [
    "sentiment_values = []\n",
    "for text in text_list:\n",
    "    blob = TextBlob(text)\n",
    "    sentiment = blob.sentiment.polarity\n",
    "    sentiment_values.append(sentiment)\n",
    "    \n",
    "positive_sentiment = [i for i in sentiment_values if i > 0]\n",
    "negative_sentiment = [i for i in sentiment_values if i < 0]\n",
    "neutral_sentiment  = [i for i in sentiment_values if i == 0]\n",
    "\n",
    "print(\"positive tweets:\" + str(len(positive_sentiment)))\n",
    "print(\"negative tweets:\" + str(len(negative_sentiment)))\n",
    "print(\"neutral tweets:\"  + str(len(neutral_sentiment)))"
   ]
  },
  {
   "cell_type": "markdown",
   "metadata": {},
   "source": [
    "**Q10**:  Write some code that prints out the first 10 tweets that have positive sentiment and the first 10 tweets that have negative sentiment."
   ]
  },
  {
   "cell_type": "markdown",
   "metadata": {},
   "source": [
    "# Q10 Answer"
   ]
  },
  {
   "cell_type": "code",
   "execution_count": null,
   "metadata": {},
   "outputs": [],
   "source": [
    "from pprint import pprint\n",
    "positive_sentiment_only = []\n",
    "negative_sentiment_only  = []\n",
    "sentiment_values_list = []\n",
    "\n",
    "for text in text_list:\n",
    "    blob = TextBlob(text)\n",
    "    sentiment = blob.sentiment.polarity\n",
    "    if sentiment > 0: \n",
    "        positive_sentiment_only.append(text)\n",
    "    if sentiment < 0:\n",
    "        negative_sentiment_only.append(text)       \n",
    "        \n",
    "        \n",
    "print(positive_sentiment_only[0:10])\n",
    "print(negative_sentiment_only[0:10])"
   ]
  },
  {
   "cell_type": "code",
   "execution_count": null,
   "metadata": {},
   "outputs": [],
   "source": []
  },
  {
   "cell_type": "markdown",
   "metadata": {},
   "source": [
    "**Q11**:  Identify all those tweets that contain the tobacco-related keywords \"cig\", \"tobacco\", \"nicotine\", and then use TextBlob to calculate the sentiment for each of the tweets.  How many are positive, negative, or neutral? "
   ]
  },
  {
   "cell_type": "code",
   "execution_count": null,
   "metadata": {},
   "outputs": [],
   "source": [
    "###########################\n",
    "#### ADD Q11 CODE HERE ####\n",
    "###########################"
   ]
  },
  {
   "cell_type": "markdown",
   "metadata": {},
   "source": [
    "# Q11 Answer"
   ]
  },
  {
   "cell_type": "code",
   "execution_count": null,
   "metadata": {},
   "outputs": [],
   "source": [
    "# positive, negative, or neutral? \n",
    "\n",
    "tobacco_related_tweets_list = []\n",
    "\n",
    "for text in text_list:\n",
    "    if \"cig\"in text:\n",
    "        tobacco_related_tweets_list.append(text)\n",
    "    if \"tobacco\" in text:\n",
    "        tobacco_related_tweets_list.append(text)\n",
    "    if \"nicotine\" in text:\n",
    "        tobacco_related_tweets_list.append(text)\n",
    "\n",
    "\n",
    "sentiment_values = []\n",
    "for text in tobacco_related_tweets_list:\n",
    "    blob = TextBlob(text)\n",
    "    sentiment = blob.sentiment.polarity\n",
    "    sentiment_values.append(sentiment)\n",
    "    \n",
    "positive_sentiment = [i for i in sentiment_values if i > 0]\n",
    "negative_sentiment = [i for i in sentiment_values if i < 0]\n",
    "neutral_sentiment  = [i for i in sentiment_values if i == 0]\n",
    "\n",
    "print(\"positive tweets:\" + str(len(positive_sentiment)))\n",
    "print(\"negative tweets:\" + str(len(negative_sentiment)))\n",
    "print(\"neutral tweets:\"  + str(len(neutral_sentiment)))"
   ]
  },
  {
   "cell_type": "markdown",
   "metadata": {},
   "source": [
    "\n",
    "\n",
    "\n"
   ]
  }
 ],
 "metadata": {
  "@webio": {
   "lastCommId": null,
   "lastKernelId": null
  },
  "kernelspec": {
   "display_name": "Python 3 (ipykernel)",
   "language": "python",
   "name": "python3"
  },
  "language_info": {
   "codemirror_mode": {
    "name": "ipython",
    "version": 3
   },
   "file_extension": ".py",
   "mimetype": "text/x-python",
   "name": "python",
   "nbconvert_exporter": "python",
   "pygments_lexer": "ipython3",
   "version": "3.9.6"
  }
 },
 "nbformat": 4,
 "nbformat_minor": 2
}
