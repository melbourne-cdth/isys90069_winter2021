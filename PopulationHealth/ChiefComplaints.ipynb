{
 "cells": [
  {
   "cell_type": "markdown",
   "metadata": {},
   "source": [
    "# Chief complaint processing script\n",
    "\n",
    "- Mike Conway, PhD (Joining the University of Melbourne)\n",
    "- Brian Chapman\n",
    "\n",
    "## Background\n",
    "\n",
    "The purpose of this lab is to expose you to a _practical problem_ in public health informatics: automatically identifying syndromes from __chief complaints__.\n",
    "\n",
    "- Influenza-like-illness syndrome\n",
    "- gastro-intestinal syndrome\n",
    "- respiratory syndrome\n",
    "- constitutional syndrome — from chief complaints. \n",
    "\n",
    "\n",
    "\n",
    "The script first opens file \"cc_only.txt\", then \"cleans\" the chief complaint string, removing punctuation, etc.  Then, a set of patterns for each of the 4 syndromes (constitutional, GI, ILI, and respiratory) are matched against the chief complaint.  The output of the script is the total number of matches for each syndrome.\n",
    "\n",
    "The first part of the notebook consists of 6 processing steps.  The second part of the notebook consists of further, optional work.\n",
    "\n",
    "### Background Material:  Syndromic Surveillance and Chief Complaints\n",
    "\n",
    "- __Conventional public health disease surveillance__ relies on the routine manual or electronic filing (by clinicians and laboratories) of reportable and unusual diseases that alert public health officials to disease outbreak clusters of interest. \n",
    "    - Depends on confirmatory laboratory testing __after preliminary diagnosis by a clinician__. \n",
    "    - In many cases takes days of testing and epidemiological analysis before an outbreak is identified.\n",
    "    - May rely on passive and voluntary reporting of cases \n",
    "    - May not be timely enough to provide the information needed to detect and monitor a rapidly evolving outbreak\n",
    "\n",
    "- __Syndromic surveillance__ focuses on the early symptom (prodromal) period before clinical or laboratory confirmation \n",
    "    - may utilise both clinical and alternative data sources that reflect measurable alterations in personal behaviours that may precede a clinical diagnosis. \n",
    "    - Syndromic surveillance systems often utilise data sources that already exist but have not been designed specifically for public health surveillance purposes. \n",
    "        - prescriptions filled\n",
    "        - retail drug and product sales\n",
    "        - school or work absenteeism. \n",
    "        \n",
    "#### In this lab we are focussing on chief complaints as a data source.\n",
    "\n",
    "### What is a chief complaint?\n",
    "\n",
    "A chief complaint is a short phrase entered by a triage nurse or admission clerk describing the reason for a patient's visit to a medical facility. \n",
    "\n",
    "### Why use chief complaints?\n",
    "\n",
    "Chief complaints are nearly ubiquitously available in the United States, routinely generated during normal hospital operations, and available electronically during or shortly after a patients visit, thus providing a basis for real-time surveillance (for a random sample of chief complaints, see table below). \n",
    "\n",
    "Various clinical, research, and administrative objectives all rely on the presence of an easily identifiable and unambiguous chief complaint. However, to be useful for syndromic surveillance, the free-text triage chief complaints must first be classified into syndromic categories or into some other type of coded representation that can be manipulated by a computer. \n",
    "\n",
    "Hand-coding data into syndrome categories, whether performed onsite in the medical facility or offsite, requires considerable time and labor. To make chief complaint data more realistically usable for ongoing surveillance, automated syndromic categorisation applications have been developed. \n",
    "\n",
    "However, automated chief complaint categorisation still suffers from the challenging nature of the data (that is, prevalence of abbreviations and misspellings, context-sensitive vocabulary, inter-hospital variation) and usability considerations (for example, providing a means for refining syndrome criteria) both of which must be overcome to classify chief complaints efficiently and effectively. Furthermore, chief complaints vary in accuracy because they are recorded prior to clinician involvement in care and can therefore lack the diagnostic precision of clinician generated reports.\n",
    "\n",
    "| |   |     |\n",
    "|------|------|-----|\n",
    "|   injury, toe | migraine|fell off bus  |\n",
    "|confused|weakness|psychiatric evaluation|\n",
    "|detox from heroin| vomiting up blood| right knee pain|\n",
    "|crying/vomiting| rash on face| injured finger|\n",
    "|right shoulder injury| slurred speech | head injury |\n",
    "|stomach cramps | cold | tired/dizzy |\n",
    "| medical| diff swallowing | followup|\n",
    "|l hip pain| dental filling| labial swelling |\n",
    "|body ache|optical exam|throat swelling|\n",
    "|visual disturbance| earache | nausea|\n",
    "|sprained ankle| grion pain| eye injuery|\n",
    "|trouble urinating| palpitations | diabetic|\n",
    "|injured leg| sores on back | foreign body, throat|\n",
    "\n",
    "\n",
    "\n",
    "The use of free text in chief complaint based syndromic surveillance systems requires managing the substantial variation that results from the use of synonyms, abbreviations, acronyms, truncations, misspellings and typographic errors. \n",
    "\n",
    "Failure to detect these linguistic variations could result in missed cases, and traditional methods for capturing this variation require ongoing labor intensive maintenance. \n",
    "\n",
    "**In this lab we will use simple string matching techniques to identify chief complaints associated with several syndromes of interest (i.e. Influenza-like-illness syndrome, gastro-intestinal syndrome, respiratory syndrome, and constitutional syndrome).**\n",
    "\n",
    "\n",
    "## Syndromes\n",
    "\n",
    "We will be looking at 4 syndromes in this lab:\n",
    "\n",
    "* Influenza-Like-IllnessSyndrome–characteristic symptoms include fever, chills,and malaise\n",
    "* Constitutional Syndrome – characteristic symptoms include fever, lethargy, and myalgia \n",
    "* Respiratory Syndrome — e.g. cough, gasping, and shortness of breath \n",
    "* Gastrointestinal Syndrome – e.g. abdominal pain, vomiting, and nausea\n",
    "\n",
    "Note that symptoms can belong to multiple syndromes. This is partly what makes syndromic surveillance difficult.\n",
    "Our goal is to automatically classify relevant chief complaints into appropriate syndromic categories\n",
    "\n"
   ]
  },
  {
   "cell_type": "code",
   "execution_count": null,
   "metadata": {},
   "outputs": [],
   "source": [
    "from pypop.utils import *\n",
    "from pypop.view import *"
   ]
  },
  {
   "cell_type": "code",
   "execution_count": null,
   "metadata": {},
   "outputs": [],
   "source": [
    "cfs = get_chief_complaint_data()"
   ]
  },
  {
   "cell_type": "markdown",
   "metadata": {},
   "source": [
    "### How many cases do we have?"
   ]
  },
  {
   "cell_type": "code",
   "execution_count": null,
   "metadata": {},
   "outputs": [],
   "source": [
    "cfs.shape"
   ]
  },
  {
   "cell_type": "code",
   "execution_count": null,
   "metadata": {},
   "outputs": [],
   "source": [
    "show_data(cfs)"
   ]
  },
  {
   "cell_type": "markdown",
   "metadata": {},
   "source": [
    "You can see that the text is quite messy, with lots of  extraneous characters (e.g. tab character)"
   ]
  },
  {
   "cell_type": "markdown",
   "metadata": {},
   "source": [
    "## 2. Strip punctuation from chief complaints and lowercase text"
   ]
  },
  {
   "cell_type": "markdown",
   "metadata": {},
   "source": [
    "Python comes with a string defining common punctuations. In the cell below I convert this to a list. You can add elements to the list with the `append` method if you wish. For example\n",
    "\n",
    "```Python\n",
    "punctuation.append(\"😂\")\n",
    "```"
   ]
  },
  {
   "cell_type": "code",
   "execution_count": null,
   "metadata": {},
   "outputs": [],
   "source": [
    "punctuation = list(string.punctuation)\n",
    "punctuation.append(\"😂\")\n",
    "\n",
    "print(len(punctuation))\n",
    "for i in range(len(punctuation)):\n",
    "    p = punctuation[i]\n",
    "    print(p, end=\" \")\n",
    "    if (i+1) % 5 == 0:\n",
    "        print()\n",
    "    \n",
    "    "
   ]
  },
  {
   "cell_type": "code",
   "execution_count": null,
   "metadata": {},
   "outputs": [],
   "source": [
    "cfs = get_cleaned_cfs(cfs, punctuation)\n",
    "show_data(cfs)"
   ]
  },
  {
   "cell_type": "markdown",
   "metadata": {},
   "source": [
    "At the end of this process, the clean_list variable contains individual chief complaints with punctuation and trailing white space removed, with all text converted to lowercase."
   ]
  },
  {
   "cell_type": "markdown",
   "metadata": {},
   "source": [
    "## 3.  Create patterns for matching syndromes\n",
    "\n",
    "In this stage we identify patterns associated with each syndrome (e.g.\n",
    "constitutional syndrome is associated with dizziness (\"dizz\"), faintness (\"faint\")."
   ]
  },
  {
   "cell_type": "markdown",
   "metadata": {},
   "source": [
    "In the cell below add terms for __food poisoning (FP)__, __asthma (ASTHMA)__, and __neurological syndrome (NEURO)__ Also feel free to edit the lists for the other syndromes. \n",
    "\n",
    "#### Please note the syntax:\n",
    "\n",
    "- A list is enclosed by square brackets\n",
    "- Elements within lists are separated by commas\n",
    "- Strings are defined with quotation marks\n",
    "\n",
    "You may find the following DataFrame which contains words and their frequencies within the chief complaints helpful"
   ]
  },
  {
   "cell_type": "code",
   "execution_count": null,
   "metadata": {},
   "outputs": [],
   "source": [
    "show_data(get_word_counts(cfs))"
   ]
  },
  {
   "cell_type": "code",
   "execution_count": null,
   "metadata": {},
   "outputs": [],
   "source": [
    "syndromes = {}\n",
    "syndromes[\"CON\"] =   [\"dizz\", \"faint\", \"malaise\", \"irritable\", \"letharg\"]\n",
    "syndromes[\"GI\"]  =   [\"vomit\", \"nausea\", \"loose stool\", \"spitting up\", \"watery stool\"]\n",
    "syndromes[\"RESP\"] =  [\"asthma\", \"cough\", \"gasp\", \"breath\", \"wheez\"]\n",
    "syndromes[\"ILI\"]  =   [\"chill\", \"fatigue\", \"arthralgia\", \"myalgia\", \"malaise\"]\n",
    "syndromes[\"FP\"] = []\n",
    "syndromes[\"ASTHMA\"] = []\n",
    "syndromes[\"NEURO\"] = []"
   ]
  },
  {
   "cell_type": "code",
   "execution_count": null,
   "metadata": {},
   "outputs": [],
   "source": [
    "cfs2 = map_syndromes(cfs, syndromes)\n",
    "show_data(cfs2)"
   ]
  },
  {
   "cell_type": "code",
   "execution_count": null,
   "metadata": {},
   "outputs": [],
   "source": [
    "cfs3 = get_syndrome_counts(cfs2, syndromes)\n",
    "show_data(cfs3)"
   ]
  },
  {
   "cell_type": "code",
   "execution_count": null,
   "metadata": {},
   "outputs": [],
   "source": [
    "cfs3.plot.bar()"
   ]
  },
  {
   "cell_type": "markdown",
   "metadata": {},
   "source": [
    "## Find Longest Chief Complaint ##"
   ]
  },
  {
   "cell_type": "markdown",
   "metadata": {},
   "source": [
    "Chief complaints vary considerably in length depending on the person who writes them, the particular institution, and the EHR used. Some are highly abbreviated, and some are full sentences. \n"
   ]
  },
  {
   "cell_type": "code",
   "execution_count": null,
   "metadata": {},
   "outputs": [],
   "source": [
    "cfs4 = get_sorted_df()"
   ]
  },
  {
   "cell_type": "code",
   "execution_count": null,
   "metadata": {},
   "outputs": [],
   "source": [
    "show_data(cfs4)"
   ]
  },
  {
   "cell_type": "markdown",
   "metadata": {},
   "source": [
    "#### Histogram of chief complaint lengths"
   ]
  },
  {
   "cell_type": "code",
   "execution_count": null,
   "metadata": {},
   "outputs": [],
   "source": [
    "cfs4.plot.hist(bins=50)"
   ]
  },
  {
   "cell_type": "code",
   "execution_count": null,
   "metadata": {},
   "outputs": [],
   "source": []
  }
 ],
 "metadata": {
  "@webio": {
   "lastCommId": null,
   "lastKernelId": null
  },
  "kernelspec": {
   "display_name": "Python 3 (ipykernel)",
   "language": "python",
   "name": "python3"
  },
  "language_info": {
   "codemirror_mode": {
    "name": "ipython",
    "version": 3
   },
   "file_extension": ".py",
   "mimetype": "text/x-python",
   "name": "python",
   "nbconvert_exporter": "python",
   "pygments_lexer": "ipython3",
   "version": "3.9.6"
  }
 },
 "nbformat": 4,
 "nbformat_minor": 2
}
