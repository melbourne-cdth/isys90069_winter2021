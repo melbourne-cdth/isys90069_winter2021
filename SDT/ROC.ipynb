{
 "cells": [
  {
   "cell_type": "markdown",
   "id": "dd308ee1",
   "metadata": {},
   "source": [
    "## Key Points for Sensitivity and Specificity\n",
    "\n",
    "- Sensitivity and Specificity are __insensitive__ to the disease prevalence\n",
    "- Sensitivity and specificity depend to the arbitrary choice of the __threshold__.\n",
    "- For an imperfect test, when I change the threshold to __increase sensitivity__ I will necessary __decrease specificity__. Similarly, any threshold change to __increase specificity__ will necessarily __decrease sensitivity__. This will be explored more below with ROC curves.\n",
    "\n",
    "## PPV and NPV\n",
    "\n",
    "The predictive value of a test depends on the prevalence of the disease in the population being tested. The positive predictive value (PPV) and the negative predictive value (NPV) capture this dependency.\n",
    "\n",
    "The PPV is the probability that someone with a positive test is actually disease positive. PPV is computed as the number of actually positive cases with a positive test divided by the total number of cases with a positive test.\n",
    "\n",
    "Similarly the NPV is the probability that someone with a negative test is actually disease negative. NPV is computed as the number of actually negative cases with a negative test value divided by the total number of cases with a negative test.\n",
    "\n",
    "## Receiver Operating Characteristic (ROC) Curves\n",
    "\n",
    "Because sensitivity and specificity are dependent on the arbitrary choice of the threshold, it is often desirable to have a measure that summarizes a test across all possible choices of a threshold. A common way of doing this is with ROC curves, where we can compute the area under the curve (AUC) as a summary statistic of the test's performance. in the cells below, you can explore these ideas with different populations. "
   ]
  },
  {
   "cell_type": "code",
   "execution_count": null,
   "id": "e02122d6",
   "metadata": {},
   "outputs": [],
   "source": [
    "from cdsutils.sdt import *\n",
    "pn.extension()\n"
   ]
  },
  {
   "cell_type": "code",
   "execution_count": null,
   "id": "ce46a002",
   "metadata": {},
   "outputs": [],
   "source": [
    "obj = Decisions()\n",
    "pn.Row(pn.Column(obj.param, obj.results), obj.view2)"
   ]
  },
  {
   "cell_type": "code",
   "execution_count": null,
   "id": "d433a87e",
   "metadata": {},
   "outputs": [],
   "source": []
  }
 ],
 "metadata": {
  "@webio": {
   "lastCommId": null,
   "lastKernelId": null
  },
  "kernelspec": {
   "display_name": "Python 3",
   "language": "python",
   "name": "python3"
  },
  "language_info": {
   "codemirror_mode": {
    "name": "ipython",
    "version": 3
   },
   "file_extension": ".py",
   "mimetype": "text/x-python",
   "name": "python",
   "nbconvert_exporter": "python",
   "pygments_lexer": "ipython3",
   "version": "3.8.2"
  }
 },
 "nbformat": 4,
 "nbformat_minor": 5
}
