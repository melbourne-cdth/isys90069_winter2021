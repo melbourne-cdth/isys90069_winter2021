{
 "cells": [
  {
   "cell_type": "markdown",
   "id": "39e984f1",
   "metadata": {},
   "source": [
    "# Using CoCalc for The Digital Transformation of Health\n",
    "\n",
    "In order to make this class more interactive and (hopefully) more fun, we are going to be using Jupyter notebooks to explore data, standards, AI, etc. This will primarily be done during the tutorials, but some module assignments will make use of Jupyter notebooks. \n",
    "\n",
    "We will \"hide\" most of the underlying code from you and focus on providing you interactive experiences through widgets, as I'll demonstrate in later notebooks.\n",
    "\n",
    "The notebooks consist of three types of cells.\n",
    "\n",
    "- Markdown cells (like this one) that get rendered as HTML\n",
    "- Code cells (like the cell just below this one)\n",
    "- Output cells (generated when you run a code cell.\n",
    "\n",
    "You run a cell by clicking on the cell and either\n",
    "\n",
    "- Clicking on the `run` button above\n",
    "- Typing \"shift-enter\"\n",
    "- Typing \"ctrl-enter\"\n",
    "\n",
    "In order for my demonstration to work, we need to install a software package for interacting with Google Transalte. In order to do this, run the following cell."
   ]
  },
  {
   "cell_type": "code",
   "execution_count": null,
   "id": "c72f750f",
   "metadata": {},
   "outputs": [],
   "source": [
    "import subprocess\n",
    "subprocess.run([\"python3\", \"-m\", \"pip\", \"install\", \"qgrid\"])\n",
    "subprocess.run([\"jupyter\", \"nbextension\", \"enable\", \"--py\", \"qgrid\"])"
   ]
  },
  {
   "cell_type": "markdown",
   "id": "cf6a64a0",
   "metadata": {},
   "source": [
    "This should generate something that looks like this:\n",
    "\n",
    "```\n",
    "CompletedProcess(args=['python3', '-m', 'pip', 'install', 'itables'], returncode=0)\n",
    "```\n",
    "\n",
    "If `returncode=0` that means the package was installed successfully.\n",
    "\n",
    "You can now run the other two notebooks. Clicking on the links below should open each notebook.\n",
    "\n",
    "- [Signal Detection Theory](ROC.ipynb)\n"
   ]
  },
  {
   "cell_type": "code",
   "execution_count": null,
   "id": "5bdb7057",
   "metadata": {},
   "outputs": [],
   "source": [
    "import pandas as pd\n",
    "pd.__version__"
   ]
  },
  {
   "cell_type": "code",
   "execution_count": null,
   "id": "87e42a3c",
   "metadata": {},
   "outputs": [],
   "source": [
    "import hvplot\n",
    "hvplot.__version__"
   ]
  },
  {
   "cell_type": "code",
   "execution_count": null,
   "id": "8d8cc570",
   "metadata": {},
   "outputs": [],
   "source": [
    "import holoviews \n",
    "holoviews.__version__"
   ]
  },
  {
   "cell_type": "code",
   "execution_count": null,
   "id": "ec5d8388",
   "metadata": {},
   "outputs": [],
   "source": [
    "import bokeh\n",
    "bokeh.__version__"
   ]
  },
  {
   "cell_type": "code",
   "execution_count": null,
   "id": "1fc5124c",
   "metadata": {},
   "outputs": [],
   "source": [
    "import panel\n",
    "panel.__version__"
   ]
  },
  {
   "cell_type": "code",
   "execution_count": null,
   "id": "1a535a6b",
   "metadata": {},
   "outputs": [],
   "source": [
    "!jupyter nbextension list"
   ]
  },
  {
   "cell_type": "code",
   "execution_count": null,
   "id": "886991bf",
   "metadata": {},
   "outputs": [],
   "source": [
    "!pip freeze "
   ]
  },
  {
   "cell_type": "code",
   "execution_count": null,
   "id": "c8cbe046",
   "metadata": {},
   "outputs": [],
   "source": [
    "!python --version"
   ]
  },
  {
   "cell_type": "code",
   "execution_count": null,
   "id": "242ddb73",
   "metadata": {},
   "outputs": [],
   "source": [
    "import numpy\n",
    "numpy.__version__"
   ]
  },
  {
   "cell_type": "code",
   "execution_count": null,
   "id": "04cd1103",
   "metadata": {},
   "outputs": [],
   "source": []
  }
 ],
 "metadata": {
  "kernelspec": {
   "display_name": "Python 3",
   "language": "python",
   "name": "python3"
  },
  "language_info": {
   "codemirror_mode": {
    "name": "ipython",
    "version": 3
   },
   "file_extension": ".py",
   "mimetype": "text/x-python",
   "name": "python",
   "nbconvert_exporter": "python",
   "pygments_lexer": "ipython3",
   "version": "3.8.2"
  }
 },
 "nbformat": 4,
 "nbformat_minor": 5
}
