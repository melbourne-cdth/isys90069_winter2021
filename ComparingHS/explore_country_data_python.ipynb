{
 "cells": [
  {
   "cell_type": "markdown",
   "id": "7b88e81d",
   "metadata": {},
   "source": [
    "# Explore Country Data\n",
    "\n",
    "This notebook allows you to explore some of raw health data collected by the Organisation for Economic Co-Operation and Development ([OECD](https://www.oecd-ilibrary.org/social-issues-migration-health/data/oecd-health-statistics_health-data-en)) for the countries/regions in the Commonwealth studies. Unfortunately, Taiwain is not included in their data sets.\n",
    "\n",
    "When you run the cell with `get_case_explorer()` it will bring up two dropdown menus.\n",
    "\n",
    "- __Countries__: Select which countries you want to look at. (You can select multiple countries)\n",
    "- __Data Set__: Select which data set you want to look at. (You can only view one data set at a time.)\n",
    "\n",
    "The data can be sorted by column. I found it most useful to sort by `Variable` (`Indicator` for the `Health Care Quality Indicators` data set).\n",
    "\n",
    "Unfortunately, the table isn't drawn until you select/change one of the dropdown menus (didn't get a chance to debug this).\n",
    "\n",
    "You will see a wide variety in the amount/types of data available for each country."
   ]
  },
  {
   "cell_type": "code",
   "execution_count": null,
   "id": "e9a3984d",
   "metadata": {},
   "outputs": [],
   "source": [
    "from putils.utils import get_case_explorer"
   ]
  },
  {
   "cell_type": "code",
   "execution_count": null,
   "id": "be3cc600",
   "metadata": {},
   "outputs": [],
   "source": [
    "get_case_explorer()"
   ]
  },
  {
   "cell_type": "code",
   "execution_count": null,
   "id": "1545bb59",
   "metadata": {},
   "outputs": [],
   "source": []
  }
 ],
 "metadata": {
  "@webio": {
   "lastCommId": null,
   "lastKernelId": null
  },
  "kernelspec": {
   "display_name": "Python 3",
   "language": "python",
   "name": "python3"
  },
  "language_info": {
   "codemirror_mode": {
    "name": "ipython",
    "version": 3
   },
   "file_extension": ".py",
   "mimetype": "text/x-python",
   "name": "python",
   "nbconvert_exporter": "python",
   "pygments_lexer": "ipython3",
   "version": "3.9.5"
  }
 },
 "nbformat": 4,
 "nbformat_minor": 5
}
