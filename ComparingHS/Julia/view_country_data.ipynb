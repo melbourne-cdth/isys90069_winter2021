{
 "cells": [
  {
   "cell_type": "code",
   "execution_count": null,
   "id": "da3363d4",
   "metadata": {},
   "outputs": [],
   "source": [
    "using Pkg\n",
    "Pkg.activate(\".\")"
   ]
  },
  {
   "cell_type": "code",
   "execution_count": null,
   "id": "2e82b14d",
   "metadata": {},
   "outputs": [],
   "source": [
    "using DataFrames\n",
    "using CSV\n",
    "using TableView\n",
    "using Interact\n",
    "using IJulia"
   ]
  },
  {
   "cell_type": "code",
   "execution_count": null,
   "id": "d2e7ab41",
   "metadata": {},
   "outputs": [],
   "source": [
    "files = [(\"Health Care Quality Indicators\", \"../data/HCQI.csv\"), \n",
    "         (\"Health Care Resources\", \"../data/REAC.csv\"), \n",
    "         (\"Non-Medical Determinants of Health\",\"../data/LVNG.csv\"), \n",
    "         (\"Health Care Utilization\", \"../data/PROC.csv\")]"
   ]
  },
  {
   "cell_type": "code",
   "execution_count": null,
   "id": "150d6ff3",
   "metadata": {},
   "outputs": [],
   "source": [
    "data = Dict([(f[1], CSV.File(f[2]) |> DataFrame) for f in files])\n",
    "function getCountries(data)\n",
    "    b = [d[!,:Country] for d in values(data)]\n",
    "    [bbb for bb in b for bbb in bb] |> unique |> sort\n",
    "end"
   ]
  },
  {
   "cell_type": "code",
   "execution_count": null,
   "id": "5f2228d2",
   "metadata": {},
   "outputs": [],
   "source": [
    "cchoices = dropdown(getCountries(data), multiple=true);\n",
    "#on(f2, dchoices);"
   ]
  },
  {
   "cell_type": "code",
   "execution_count": null,
   "id": "74bd12fd",
   "metadata": {},
   "outputs": [],
   "source": [
    "dchoices = dropdown(collect(keys(data)));\n",
    "#on(f2, dchoices);"
   ]
  },
  {
   "cell_type": "code",
   "execution_count": null,
   "id": "55e96660",
   "metadata": {},
   "outputs": [],
   "source": [
    "\n",
    "function f2(e)\n",
    "    filter(:Country => x -> x in cchoices[], data[dchoices[]]) |> showtable\n",
    "end\n",
    "function f3(c, d)\n",
    "    IJulia.clear_output()\n",
    "    display(hbox(dchoices, cchoices))\n",
    "    display(filter(:Country => x ->x in c, data[d]) |> showtable)\n",
    "end"
   ]
  },
  {
   "cell_type": "code",
   "execution_count": null,
   "id": "467ef00b",
   "metadata": {},
   "outputs": [],
   "source": [
    "display(hbox(dchoices, cchoices))\n",
    "Observables.@on f3(&cchoices, &dchoices);"
   ]
  },
  {
   "cell_type": "code",
   "execution_count": null,
   "id": "0c50ee8d",
   "metadata": {},
   "outputs": [],
   "source": []
  }
 ],
 "metadata": {
  "@webio": {
   "lastCommId": null,
   "lastKernelId": null
  },
  "kernelspec": {
   "display_name": "Julia 1.6.1",
   "language": "julia",
   "name": "julia-1.6"
  },
  "language_info": {
   "file_extension": ".jl",
   "mimetype": "application/julia",
   "name": "julia",
   "version": "1.6.1"
  }
 },
 "nbformat": 4,
 "nbformat_minor": 5
}
