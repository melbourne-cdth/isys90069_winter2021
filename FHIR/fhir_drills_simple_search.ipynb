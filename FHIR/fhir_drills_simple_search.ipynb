{
 "cells": [
  {
   "cell_type": "markdown",
   "metadata": {},
   "source": [
    "# FHIR-Drills (Simple Search)\n",
    "\n",
    "This notebook is a rough, Jupyter translation of the FHIR-Drills tutorial based on Postman avaialble [here](https://fhir-drills.github.io/simple-patient.html). Rather than using the Python Smart on FHIR library, I'm going to use the Python requests library so that we are working more directly with the HTTP protocol and are closer to the steps described in the original tutorial than would be achieved with the FHIR Python client.\n",
    "\n",
    "For more details, please refer to the original tutorials."
   ]
  },
  {
   "cell_type": "markdown",
   "metadata": {},
   "source": [
    "FHIR is built upon web standards, particularly [Representational state transfer (REST)](https://en.wikipedia.org/wiki/Representational_state_transfer). \n",
    "\n",
    "In this tutorial we will explore RESTful operations to create, read, update, and delete resources (CRUD) with a FHIR server. \n",
    "\n",
    "We will interact with the FHIR server using the Hype Text Transfer Protocol [(HTTP)](https://en.wikipedia.org/wiki/Hypertext_Transfer_Protocol), a digital communications protocol develooped by Tim Berners-Lee at CERN. We will use the Python package [`requests`](https://requests.readthedocs.io/en/master/index.html) to implement the HTTP commands for us. `requests` will generate URLs that tell the remote server what we want to do, receive the responses from the remote servers, and convert them into Python objects we can interact with."
   ]
  },
  {
   "cell_type": "markdown",
   "metadata": {},
   "source": [
    "## Find a patient with relevant variables"
   ]
  },
  {
   "cell_type": "code",
   "execution_count": null,
   "metadata": {},
   "outputs": [],
   "source": [
    "import requests\n",
    "from post_data import create_resource\n",
    "import pprint\n",
    "pp = pprint.PrettyPrinter(indent=2)"
   ]
  },
  {
   "cell_type": "markdown",
   "metadata": {},
   "source": [
    "### Create Patient and get `id`\n",
    "\n",
    "I've written some Python code to upload a patient to the server behidn the scences, mimicing what the HTML button does on the original tutorial\n",
    "\n",
    "When we invoke `create_resource()` we upload a JSON file describing a patient. When this is posted (inserted) into the remote server, this patient is assigned a unique identifier which is necessary to interact with the patient data remotely. This identifer is then stored in the variable `patientId`."
   ]
  },
  {
   "cell_type": "code",
   "execution_count": null,
   "metadata": {},
   "outputs": [],
   "source": [
    "patientId = create_resource()"
   ]
  },
  {
   "cell_type": "code",
   "execution_count": null,
   "metadata": {},
   "outputs": [],
   "source": [
    "patientId"
   ]
  },
  {
   "cell_type": "markdown",
   "metadata": {},
   "source": [
    "### Set the headers to work with FHIR data\n",
    "\n",
    "Data transfer with HTTP relies on specifying the [media type (MIME type)](https://en.wikipedia.org/wiki/Hypertext_Transfer_Protocol). This is done with the HTTP header. So we need to specify that we will be using FHIR data. We will also specify what character encoding we will be using.\n",
    "\n",
    "Finally, we need to know the Uniform Resource Locator (URL) of the FHIR server."
   ]
  },
  {
   "cell_type": "code",
   "execution_count": null,
   "metadata": {},
   "outputs": [],
   "source": [
    "FHIRJSONMimeType = 'application/fhir+json'\n",
    "header_defaults = {\n",
    "            'Accept': FHIRJSONMimeType,\n",
    "            'Accept-Charset': 'UTF-8',\n",
    "        }\n",
    "URL = 'https://stu3.test.pyrohealth.net/fhir'"
   ]
  },
  {
   "cell_type": "markdown",
   "metadata": {},
   "source": [
    "To request the FHIR resource, we build up a URL based on\n",
    "\n",
    "- The base URL: `URL`\n",
    "- The resource type we want: e.g. `Patient`\n",
    "- The ID of the resoruce we want: e.g. `patientID` (returned from `create_resource()`)"
   ]
  },
  {
   "cell_type": "markdown",
   "metadata": {},
   "source": [
    "## Get Our Patient\n",
    "\n",
    "We will use the HTTP [GET](https://www.w3.org/Protocols/rfc2616/rfc2616-sec9.html) method.\n",
    "\n",
    "We will construct a query by passing values using the [params](https://requests.readthedocs.io/en/master/user/quickstart/#passing-parameters-in-urls) keyword argument."
   ]
  },
  {
   "cell_type": "code",
   "execution_count": null,
   "metadata": {},
   "outputs": [],
   "source": [
    "r = requests.get(URL+ '/Patient/',\n",
    "                 headers = header_defaults, params={\"family\":\"Chapman\"})"
   ]
  },
  {
   "cell_type": "markdown",
   "metadata": {},
   "source": [
    "`r` contains the results of our request. It has multiple parts\n",
    "\n",
    "- `r.status_code`: Is the code returned by the remote server. `200` means success! I ran across many bad codes trying to get things working.\n",
    "- `r.headers`: The metadata about the request and response\n",
    "- `r.text`:\n",
    "- `r.json`: A method to convert the data returned by the server into a Python dictionary."
   ]
  },
  {
   "cell_type": "code",
   "execution_count": null,
   "metadata": {},
   "outputs": [],
   "source": [
    "print(r.status_code)\n",
    "print(r.headers)"
   ]
  },
  {
   "cell_type": "code",
   "execution_count": null,
   "metadata": {},
   "outputs": [],
   "source": [
    "pp.pprint(r.json())"
   ]
  },
  {
   "cell_type": "markdown",
   "metadata": {},
   "source": [
    "## Search Options\n",
    "\n",
    "FHIR defines eight different search datatypes as follows: \n",
    "                        \n",
    "<li><a href=\"http://hl7.org/fhir/STU3/search.html#number\">Number</a></li>\n",
    "                        <li><a href=\"http://hl7.org/fhir/STU3/search.html#date\">Date/DateTime</a></li>\n",
    "                        <li><a href=\"http://hl7.org/fhir/STU3/search.html#string\">String</a></li>\n",
    "                        <li><a href=\"http://hl7.org/fhir/STU3/search.html#token\">Token</a></li>\n",
    "                        <li><a href=\"http://hl7.org/fhir/STU3/search.html#reference\">Reference</a></li>                        \n",
    "                        <li><a href=\"http://hl7.org/fhir/STU3/search.html#composite\">Composite</a></li>\n",
    "                        <li><a href=\"http://hl7.org/fhir/STU3/search.html#quantity\">Quantity</a></li>\n",
    "                        <li><a href=\"http://hl7.org/fhir/STU3/search.html#uri\">URI</a></li>\n",
    "\n",
    "- [FHIR version 3 Search API](http://hl7.org/fhir/STU3/search.html#number)\n",
    "- [FHIR version 4 Search API](http://hl7.org/fhir/search.html)"
   ]
  },
  {
   "cell_type": "markdown",
   "metadata": {},
   "source": [
    "## Questions\n",
    "\n",
    "1. Using the references above try and find the patient with an old address in the suburb of 'Erinsborough'?\n",
    "1. Try and find the patient name for the person with an IHI (Individual Health Identifier) of __'8003601043886154'__?"
   ]
  },
  {
   "cell_type": "markdown",
   "metadata": {},
   "source": [
    "## Question 1\n",
    "\n",
    "The description of addresses is provided [here](http://hl7.org/fhir/STU3/datatypes.html#address).\n"
   ]
  },
  {
   "cell_type": "code",
   "execution_count": null,
   "metadata": {},
   "outputs": [],
   "source": [
    "r2 = requests.get(URL+ '/Patient/',\n",
    "                 headers = header_defaults, params={})"
   ]
  },
  {
   "cell_type": "code",
   "execution_count": null,
   "metadata": {},
   "outputs": [],
   "source": [
    "r2.status_code"
   ]
  },
  {
   "cell_type": "code",
   "execution_count": null,
   "metadata": {},
   "outputs": [],
   "source": [
    "pp.pprint(r2.json())"
   ]
  },
  {
   "cell_type": "markdown",
   "metadata": {},
   "source": [
    "## Question 2"
   ]
  },
  {
   "cell_type": "code",
   "execution_count": null,
   "metadata": {},
   "outputs": [],
   "source": [
    "r3 = requests.get(URL+ '/Patient/',\n",
    "                 headers = header_defaults, params={})"
   ]
  },
  {
   "cell_type": "code",
   "execution_count": null,
   "metadata": {},
   "outputs": [],
   "source": [
    "pp.pprint(r3.json())"
   ]
  },
  {
   "cell_type": "markdown",
   "metadata": {},
   "source": [
    "## Question\n",
    "\n",
    "If you repeat the `simple patient` tutorial but do not delete your patient, can you create a search to find yourself (that is the patient with Kari Chapman's name replaced with your own)?"
   ]
  },
  {
   "cell_type": "code",
   "execution_count": null,
   "metadata": {},
   "outputs": [],
   "source": []
  }
 ],
 "metadata": {
  "anaconda-cloud": {},
  "kernelspec": {
   "display_name": "Python 3 (system-wide)",
   "language": "python",
   "metadata": {
    "cocalc": {
     "description": "Python 3 programming language",
     "priority": 100,
     "url": "https://www.python.org/"
    }
   },
   "name": "python3",
   "resource_dir": "/ext/jupyter/kernels/python3"
  },
  "language_info": {
   "codemirror_mode": {
    "name": "ipython",
    "version": 3
   },
   "file_extension": ".py",
   "mimetype": "text/x-python",
   "name": "python",
   "nbconvert_exporter": "python",
   "pygments_lexer": "ipython3",
   "version": "3.8.2"
  },
  "toc": {
   "base_numbering": 1,
   "nav_menu": {},
   "number_sections": true,
   "sideBar": true,
   "skip_h1_title": false,
   "title_cell": "Table of Contents",
   "title_sidebar": "Contents",
   "toc_cell": false,
   "toc_position": {},
   "toc_section_display": true,
   "toc_window_display": true
  }
 },
 "nbformat": 4,
 "nbformat_minor": 4
}
