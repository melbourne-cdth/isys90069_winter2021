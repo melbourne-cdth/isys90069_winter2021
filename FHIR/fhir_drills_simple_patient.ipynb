{
 "cells": [
  {
   "cell_type": "markdown",
   "metadata": {
    "collapsed": false
   },
   "source": [
    "# FHIR-Drills (Simple Patient)\n",
    "\n",
    "This notebook is a rough, Jupyter translation of the FHIR-Drills tutorial based on Postman avaialble [here](https://fhir-drills.github.io/simple-patient.html). Rather than using the Python Smart on FHIR library, I'm going to use the Python requests library so that we are working more directly with the HTTP protocol and are closer to the steps described in the original tutorial than would be achieved with the FHIR Python client.\n",
    "\n",
    "For more details, please refer to the original tutorials."
   ]
  },
  {
   "cell_type": "markdown",
   "metadata": {
    "collapsed": false
   },
   "source": [
    "FHIR is built upon web standards, particularly [Representational state transfer (REST)](https://en.wikipedia.org/wiki/Representational_state_transfer). \n",
    "\n",
    "In this tutorial we will explore RESTful operations to create, read, update, and delete resources (CRUD) with a FHIR server. \n",
    "\n",
    "We will interact with the FHIR server using the Hype Text Transfer Protocol [(HTTP)](https://en.wikipedia.org/wiki/Hypertext_Transfer_Protocol), a digital communications protocol develooped by Tim Berners-Lee at CERN. We will use the Python package [`requests`](https://requests.readthedocs.io/en/master/index.html) to implement the HTTP commands for us. `requests` will generate URLs that tell the remote server what we want to do, receive the responses from the remote servers, and convert them into Python objects we can interact with."
   ]
  },
  {
   "cell_type": "markdown",
   "metadata": {
    "collapsed": false
   },
   "source": [
    "## Find a patient with relevant variables"
   ]
  },
  {
   "cell_type": "code",
   "execution_count": 1,
   "metadata": {
    "collapsed": false
   },
   "outputs": [
   ],
   "source": [
    "import requests\n",
    "from post_data import create_resource\n",
    "import pprint\n",
    "pp = pprint.PrettyPrinter(indent=2)"
   ]
  },
  {
   "cell_type": "markdown",
   "metadata": {
    "collapsed": false
   },
   "source": [
    "### Create Patient and get `id`\n",
    "\n",
    "I've written some Python code to upload a patient to the server behidn the scences, mimicing what the HTML button does on the original tutorial\n",
    "\n",
    "When we invoke `create_resource()` we upload a JSON file describing a patient. When this is posted (inserted) into the remote server, this patient is assigned a unique identifier which is necessary to interact with the patient data remotely. This identifer is then stored in the variable `patientId`."
   ]
  },
  {
   "cell_type": "code",
   "execution_count": 2,
   "metadata": {
    "collapsed": false
   },
   "outputs": [
   ],
   "source": [
    "patientId = create_resource()"
   ]
  },
  {
   "cell_type": "code",
   "execution_count": 3,
   "metadata": {
    "collapsed": false
   },
   "outputs": [
    {
     "data": {
      "text/plain": [
       "'afbf6c1f-ff4c-452a-9cab-8812ff486821'"
      ]
     },
     "execution_count": 3,
     "metadata": {
     },
     "output_type": "execute_result"
    }
   ],
   "source": [
    "patientId"
   ]
  },
  {
   "cell_type": "markdown",
   "metadata": {
    "collapsed": false
   },
   "source": [
    "### Set the headers to work with FHIR data\n",
    "\n",
    "Data transfer with HTTP relies on specifying the [media type (MIME type)](https://en.wikipedia.org/wiki/Hypertext_Transfer_Protocol). This is done with the HTTP header. So we need to specify that we will be using FHIR data. We will also specify what character encoding we will be using.\n",
    "\n",
    "Finally, we need to know the Uniform Resource Locator (URL) of the FHIR server."
   ]
  },
  {
   "cell_type": "code",
   "execution_count": 4,
   "metadata": {
    "collapsed": false
   },
   "outputs": [
   ],
   "source": [
    "FHIRJSONMimeType = 'application/fhir+json'\n",
    "header_defaults = {\n",
    "            'Accept': FHIRJSONMimeType,\n",
    "            'Accept-Charset': 'UTF-8',\n",
    "        }\n",
    "URL = 'https://stu3.test.pyrohealth.net/fhir'"
   ]
  },
  {
   "cell_type": "markdown",
   "metadata": {
    "collapsed": false
   },
   "source": [
    "To request the FHIR resource, we build up a URL based on\n",
    "\n",
    "- The base URL: `URL`\n",
    "- The resource type we want: e.g. `Patient`\n",
    "- The ID of the resoruce we want: e.g. `patientID` (returned from `create_resource()`)"
   ]
  },
  {
   "cell_type": "code",
   "execution_count": 5,
   "metadata": {
    "collapsed": false
   },
   "outputs": [
    {
     "data": {
      "text/plain": [
       "'https://stu3.test.pyrohealth.net/fhir/Patient/afbf6c1f-ff4c-452a-9cab-8812ff486821'"
      ]
     },
     "execution_count": 5,
     "metadata": {
     },
     "output_type": "execute_result"
    }
   ],
   "source": [
    "rurl = URL+ '/Patient/'+patientId\n",
    "rurl"
   ]
  },
  {
   "cell_type": "markdown",
   "metadata": {
    "collapsed": false
   },
   "source": [
    "## Get Our Patient\n",
    "\n",
    "We will use the HTTP [GET](https://www.w3.org/Protocols/rfc2616/rfc2616-sec9.html) method."
   ]
  },
  {
   "cell_type": "code",
   "execution_count": 6,
   "metadata": {
    "collapsed": false
   },
   "outputs": [
   ],
   "source": [
    "r = requests.get(rurl,\n",
    "                 headers = header_defaults)"
   ]
  },
  {
   "cell_type": "markdown",
   "metadata": {
    "collapsed": false
   },
   "source": [
    "`r` contains the results of our request. It has multiple parts\n",
    "\n",
    "- `r.status_code`: Is the code returned by the remote server. `200` means success! I ran across many bad codes trying to get things working.\n",
    "- `r.headers`: The metadata about the request and response\n",
    "- `r.text`:\n",
    "- `r.json`: A method to convert the data returned by the server into a Python dictionary."
   ]
  },
  {
   "cell_type": "code",
   "execution_count": 7,
   "metadata": {
    "collapsed": false
   },
   "outputs": [
    {
     "name": "stdout",
     "output_type": "stream",
     "text": [
      "200\n",
      "{'Content-Type': 'application/fhir+json; charset=utf-8', 'Content-Encoding': 'gzip', 'Last-Modified': 'Wed, 14 Jul 2021 08:58:49 GMT', 'ETag': 'W/\"1\"', 'Location': 'https://stu3.test.pyrohealth.net/fhir/Patient/afbf6c1f-ff4c-452a-9cab-8812ff486821', 'Server': 'Microsoft-IIS/8.5', 'X-Powered-By': 'ASP.NET', 'Date': 'Wed, 14 Jul 2021 09:02:02 GMT', 'Content-Length': '658'}\n"
     ]
    }
   ],
   "source": [
    "print(r.status_code)\n",
    "print(r.headers)"
   ]
  },
  {
   "cell_type": "code",
   "execution_count": 8,
   "metadata": {
    "collapsed": false
   },
   "outputs": [
    {
     "name": "stdout",
     "output_type": "stream",
     "text": [
      "{\"resourceType\":\"Patient\",\"id\":\"afbf6c1f-ff4c-452a-9cab-8812ff486821\",\"meta\":{\"versionId\":\"1\",\"lastUpdated\":\"2021-07-14T08:58:49.516+00:00\"},\"text\":{\"status\":\"generated\",\"div\":\"<div xmlns=\\\"http://www.w3.org/1999/xhtml\\\"><p>Patient: Fhirman, Sam</p></div>\"},\"identifier\":[{\"type\":{\"coding\":[{\"system\":\"http://hl7.org/fhir/v2/0203\",\"code\":\"NI\",\"display\":\"National unique individual identifier\"}],\"text\":\"IHI\"},\"system\":\"http://ns.electronichealth.net.au/id/hi/ihi/1.0\",\"value\":\"8003608166690503\"},{\"use\":\"usual\",\"type\":{\"coding\":[{\"system\":\"http://hl7.org/fhir/v2/0203\",\"code\":\"MR\"}]},\"system\":\"urn:oid:1.2.36.146.595.217.0.1\",\"value\":\"6666\",\"period\":{\"start\":\"2001-05-06\"},\"assigner\":{\"display\":\"Acme Healthcare\"}}],\"name\":[{\"use\":\"official\",\"text\":\"Sam Fhirman\",\"family\":\"Fhirman\",\"given\":[\"Sam\"],\"prefix\":[\"Mr\"]}],\"telecom\":[{\"system\":\"phone\",\"value\":\"+61481059995\",\"use\":\"mobile\"}],\"gender\":\"male\",\"birthDate\":\"1973-09-30\",\"address\":[{\"use\":\"work\",\"line\":[\"400 George Street\"],\"city\":\"Brisbane\",\"state\":\"QLD\",\"postalCode\":\"4000\",\"country\":\"AUS\"}],\"maritalStatus\":{\"coding\":[{\"system\":\"http://hl7.org/fhir/v3/MaritalStatus\",\"code\":\"M\",\"display\":\"Married\"}]}}\n"
     ]
    }
   ],
   "source": [
    "print(r.text)"
   ]
  },
  {
   "cell_type": "code",
   "execution_count": 9,
   "metadata": {
    "collapsed": false
   },
   "outputs": [
    {
     "name": "stdout",
     "output_type": "stream",
     "text": [
      "{ 'address': [ { 'city': 'Brisbane',\n",
      "                 'country': 'AUS',\n",
      "                 'line': ['400 George Street'],\n",
      "                 'postalCode': '4000',\n",
      "                 'state': 'QLD',\n",
      "                 'use': 'work'}],\n",
      "  'birthDate': '1973-09-30',\n",
      "  'gender': 'male',\n",
      "  'id': 'afbf6c1f-ff4c-452a-9cab-8812ff486821',\n",
      "  'identifier': [ { 'system': 'http://ns.electronichealth.net.au/id/hi/ihi/1.0',\n",
      "                    'type': { 'coding': [ { 'code': 'NI',\n",
      "                                            'display': 'National unique '\n",
      "                                                       'individual identifier',\n",
      "                                            'system': 'http://hl7.org/fhir/v2/0203'}],\n",
      "                              'text': 'IHI'},\n",
      "                    'value': '8003608166690503'},\n",
      "                  { 'assigner': {'display': 'Acme Healthcare'},\n",
      "                    'period': {'start': '2001-05-06'},\n",
      "                    'system': 'urn:oid:1.2.36.146.595.217.0.1',\n",
      "                    'type': { 'coding': [ { 'code': 'MR',\n",
      "                                            'system': 'http://hl7.org/fhir/v2/0203'}]},\n",
      "                    'use': 'usual',\n",
      "                    'value': '6666'}],\n",
      "  'maritalStatus': { 'coding': [ { 'code': 'M',\n",
      "                                   'display': 'Married',\n",
      "                                   'system': 'http://hl7.org/fhir/v3/MaritalStatus'}]},\n",
      "  'meta': {'lastUpdated': '2021-07-14T08:58:49.516+00:00', 'versionId': '1'},\n",
      "  'name': [ { 'family': 'Fhirman',\n",
      "              'given': ['Sam'],\n",
      "              'prefix': ['Mr'],\n",
      "              'text': 'Sam Fhirman',\n",
      "              'use': 'official'}],\n",
      "  'resourceType': 'Patient',\n",
      "  'telecom': [{'system': 'phone', 'use': 'mobile', 'value': '+61481059995'}],\n",
      "  'text': { 'div': '<div xmlns=\"http://www.w3.org/1999/xhtml\"><p>Patient: '\n",
      "                   'Fhirman, Sam</p></div>',\n",
      "            'status': 'generated'}}\n"
     ]
    }
   ],
   "source": [
    "pp.pprint(r.json())"
   ]
  },
  {
   "cell_type": "markdown",
   "metadata": {
    "collapsed": false
   },
   "source": [
    "## Get the returned content\n",
    "\n",
    "We are going to extract the returned data and use the resposne objects `json` method to convert the returned object to a Python dictionary."
   ]
  },
  {
   "cell_type": "code",
   "execution_count": 10,
   "metadata": {
    "collapsed": false
   },
   "outputs": [
   ],
   "source": [
    "patient = r.json()"
   ]
  },
  {
   "cell_type": "code",
   "execution_count": 11,
   "metadata": {
    "collapsed": false
   },
   "outputs": [
    {
     "name": "stdout",
     "output_type": "stream",
     "text": [
      "{ 'address': [ { 'city': 'Brisbane',\n",
      "                 'country': 'AUS',\n",
      "                 'line': ['400 George Street'],\n",
      "                 'postalCode': '4000',\n",
      "                 'state': 'QLD',\n",
      "                 'use': 'work'}],\n",
      "  'birthDate': '1973-09-30',\n",
      "  'gender': 'male',\n",
      "  'id': 'afbf6c1f-ff4c-452a-9cab-8812ff486821',\n",
      "  'identifier': [ { 'system': 'http://ns.electronichealth.net.au/id/hi/ihi/1.0',\n",
      "                    'type': { 'coding': [ { 'code': 'NI',\n",
      "                                            'display': 'National unique '\n",
      "                                                       'individual identifier',\n",
      "                                            'system': 'http://hl7.org/fhir/v2/0203'}],\n",
      "                              'text': 'IHI'},\n",
      "                    'value': '8003608166690503'},\n",
      "                  { 'assigner': {'display': 'Acme Healthcare'},\n",
      "                    'period': {'start': '2001-05-06'},\n",
      "                    'system': 'urn:oid:1.2.36.146.595.217.0.1',\n",
      "                    'type': { 'coding': [ { 'code': 'MR',\n",
      "                                            'system': 'http://hl7.org/fhir/v2/0203'}]},\n",
      "                    'use': 'usual',\n",
      "                    'value': '6666'}],\n",
      "  'maritalStatus': { 'coding': [ { 'code': 'M',\n",
      "                                   'display': 'Married',\n",
      "                                   'system': 'http://hl7.org/fhir/v3/MaritalStatus'}]},\n",
      "  'meta': {'lastUpdated': '2021-07-14T08:58:49.516+00:00', 'versionId': '1'},\n",
      "  'name': [ { 'family': 'Fhirman',\n",
      "              'given': ['Sam'],\n",
      "              'prefix': ['Mr'],\n",
      "              'text': 'Sam Fhirman',\n",
      "              'use': 'official'}],\n",
      "  'resourceType': 'Patient',\n",
      "  'telecom': [{'system': 'phone', 'use': 'mobile', 'value': '+61481059995'}],\n",
      "  'text': { 'div': '<div xmlns=\"http://www.w3.org/1999/xhtml\"><p>Patient: '\n",
      "                   'Fhirman, Sam</p></div>',\n",
      "            'status': 'generated'}}\n"
     ]
    }
   ],
   "source": [
    "pp.pprint(patient)"
   ]
  },
  {
   "cell_type": "markdown",
   "metadata": {
    "collapsed": false
   },
   "source": [
    "Dictionary are __key__/__value__ pairs.\n",
    "\n",
    "We can list the keys with the `keys()` method."
   ]
  },
  {
   "cell_type": "code",
   "execution_count": 12,
   "metadata": {
    "collapsed": false
   },
   "outputs": [
    {
     "data": {
      "text/plain": [
       "dict_keys(['resourceType', 'id', 'meta', 'text', 'identifier', 'name', 'telecom', 'gender', 'birthDate', 'address', 'maritalStatus'])"
      ]
     },
     "execution_count": 12,
     "metadata": {
     },
     "output_type": "execute_result"
    }
   ],
   "source": [
    "patient.keys()"
   ]
  },
  {
   "cell_type": "markdown",
   "metadata": {
    "collapsed": false
   },
   "source": [
    "We access the values in the dictionary using square brackets and the keys.\n",
    "\n",
    "For example,"
   ]
  },
  {
   "cell_type": "code",
   "execution_count": 13,
   "metadata": {
    "collapsed": false
   },
   "outputs": [
    {
     "data": {
      "text/plain": [
       "'1973-09-30'"
      ]
     },
     "execution_count": 13,
     "metadata": {
     },
     "output_type": "execute_result"
    }
   ],
   "source": [
    "patient[\"birthDate\"]"
   ]
  },
  {
   "cell_type": "markdown",
   "metadata": {
    "collapsed": false
   },
   "source": [
    "We can change the value by assigning a value to the key"
   ]
  },
  {
   "cell_type": "code",
   "execution_count": 14,
   "metadata": {
    "collapsed": false
   },
   "outputs": [
   ],
   "source": [
    "patient[\"birthDate\"] = \"2019-11-23\""
   ]
  },
  {
   "cell_type": "markdown",
   "metadata": {
    "collapsed": false
   },
   "source": [
    "## Change Patient name\n",
    "\n",
    "The tutorial suggests we change the patient name to your own and then push the results up to the server.\n",
    "\n",
    "#### To Do: Modify the values below to match your name rather than mine"
   ]
  },
  {
   "cell_type": "code",
   "execution_count": 15,
   "metadata": {
    "collapsed": false
   },
   "outputs": [
   ],
   "source": [
    "patient[\"name\"] = [{'family': \"Chapman\", 'given':['Brian', 'Earl'], \n",
    "              \"prefix\":\"Dr.\", \"text\":\"Brian Chapman\", \"use\":\"official\"}]"
   ]
  },
  {
   "cell_type": "markdown",
   "metadata": {
    "collapsed": false
   },
   "source": [
    "## PUT the modified data on the server\n",
    "\n",
    "we will use the `PUT` method to push our modified patient to the server."
   ]
  },
  {
   "cell_type": "code",
   "execution_count": 16,
   "metadata": {
    "collapsed": false
   },
   "outputs": [
    {
     "data": {
      "text/plain": [
       "True"
      ]
     },
     "execution_count": 16,
     "metadata": {
     },
     "output_type": "execute_result"
    }
   ],
   "source": [
    "r2 = requests.put(URL+'/Patient/'+patientId,\n",
    "                 headers = header_defaults,\n",
    "                 json=patient)\n",
    "r2.ok"
   ]
  },
  {
   "cell_type": "markdown",
   "metadata": {
    "collapsed": false
   },
   "source": [
    "`r2.ok` is a boolean value that basically tells you whether things went as planned."
   ]
  },
  {
   "cell_type": "markdown",
   "metadata": {
    "collapsed": false
   },
   "source": [
    "## Verify Results"
   ]
  },
  {
   "cell_type": "code",
   "execution_count": 17,
   "metadata": {
    "collapsed": false
   },
   "outputs": [
    {
     "data": {
      "text/plain": [
       "[{'use': 'official',\n",
       "  'text': 'Brian Chapman',\n",
       "  'family': 'Chapman',\n",
       "  'given': ['Brian', 'Earl'],\n",
       "  'prefix': ['Dr.']}]"
      ]
     },
     "execution_count": 17,
     "metadata": {
     },
     "output_type": "execute_result"
    }
   ],
   "source": [
    "requests.get(URL+'/Patient/'+patientId,\n",
    "                 headers = header_defaults).json()['name']"
   ]
  },
  {
   "cell_type": "markdown",
   "metadata": {
    "collapsed": false
   },
   "source": [
    "### Data is Modified!\n",
    "\n",
    "At least for me!"
   ]
  },
  {
   "cell_type": "markdown",
   "metadata": {
    "collapsed": false
   },
   "source": [
    "## Delete the Resource\n",
    "\n",
    "To delete we simply use the delete method and provide the URL of the resource we want to delete."
   ]
  },
  {
   "cell_type": "code",
   "execution_count": 18,
   "metadata": {
    "collapsed": false
   },
   "outputs": [
   ],
   "source": [
    "r3 = requests.delete(URL+'/Patient/'+patientId)\n"
   ]
  },
  {
   "cell_type": "code",
   "execution_count": 19,
   "metadata": {
    "collapsed": false
   },
   "outputs": [
    {
     "name": "stdout",
     "output_type": "stream",
     "text": [
      "204\n",
      "True\n"
     ]
    }
   ],
   "source": [
    "print(r3.status_code)\n",
    "print(r3.ok)"
   ]
  },
  {
   "cell_type": "markdown",
   "metadata": {
    "collapsed": false
   },
   "source": [
    "## Verify the patient is deleted."
   ]
  },
  {
   "cell_type": "code",
   "execution_count": 20,
   "metadata": {
    "collapsed": false
   },
   "outputs": [
   ],
   "source": [
    "rd = requests.get(URL+'/Patient/'+patientId,\n",
    "                 headers = header_defaults)"
   ]
  },
  {
   "cell_type": "code",
   "execution_count": 21,
   "metadata": {
    "collapsed": false
   },
   "outputs": [
    {
     "data": {
      "text/plain": [
       "410"
      ]
     },
     "execution_count": 21,
     "metadata": {
     },
     "output_type": "execute_result"
    }
   ],
   "source": [
    "rd.status_code"
   ]
  },
  {
   "cell_type": "markdown",
   "metadata": {
    "collapsed": false
   },
   "source": [
    "status code `410`  means `Gone`"
   ]
  },
  {
   "cell_type": "code",
   "execution_count": 23,
   "metadata": {
    "collapsed": false
   },
   "outputs": [
    {
     "name": "stdout",
     "output_type": "stream",
     "text": [
      "VERSION:  1\n"
     ]
    },
    {
     "name": "stdout",
     "output_type": "stream",
     "text": [
      "200\n",
      "{ 'address': [ { 'city': 'Brisbane',\n",
      "                 'country': 'AUS',\n",
      "                 'line': ['400 George Street'],\n",
      "                 'postalCode': '4000',\n",
      "                 'state': 'QLD',\n",
      "                 'use': 'work'}],\n",
      "  'birthDate': '1973-09-30',\n",
      "  'gender': 'male',\n",
      "  'id': 'afbf6c1f-ff4c-452a-9cab-8812ff486821',\n",
      "  'identifier': [ { 'system': 'http://ns.electronichealth.net.au/id/hi/ihi/1.0',\n",
      "                    'type': { 'coding': [ { 'code': 'NI',\n",
      "                                            'display': 'National unique '\n",
      "                                                       'individual identifier',\n",
      "                                            'system': 'http://hl7.org/fhir/v2/0203'}],\n",
      "                              'text': 'IHI'},\n",
      "                    'value': '8003608166690503'},\n",
      "                  { 'assigner': {'display': 'Acme Healthcare'},\n",
      "                    'period': {'start': '2001-05-06'},\n",
      "                    'system': 'urn:oid:1.2.36.146.595.217.0.1',\n",
      "                    'type': { 'coding': [ { 'code': 'MR',\n",
      "                                            'system': 'http://hl7.org/fhir/v2/0203'}]},\n",
      "                    'use': 'usual',\n",
      "                    'value': '6666'}],\n",
      "  'maritalStatus': { 'coding': [ { 'code': 'M',\n",
      "                                   'display': 'Married',\n",
      "                                   'system': 'http://hl7.org/fhir/v3/MaritalStatus'}]},\n",
      "  'meta': {'lastUpdated': '2021-07-14T08:58:49.516+00:00', 'versionId': '1'},\n",
      "  'name': [ { 'family': 'Fhirman',\n",
      "              'given': ['Sam'],\n",
      "              'prefix': ['Mr'],\n",
      "              'text': 'Sam Fhirman',\n",
      "              'use': 'official'}],\n",
      "  'resourceType': 'Patient',\n",
      "  'telecom': [{'system': 'phone', 'use': 'mobile', 'value': '+61481059995'}],\n",
      "  'text': { 'div': '<div xmlns=\"http://www.w3.org/1999/xhtml\"><p>Patient: '\n",
      "                   'Fhirman, Sam</p></div>',\n",
      "            'status': 'generated'}}\n",
      "------------------------------------------\n",
      "VERSION:  2\n"
     ]
    },
    {
     "name": "stdout",
     "output_type": "stream",
     "text": [
      "200\n",
      "{ 'address': [ { 'city': 'Brisbane',\n",
      "                 'country': 'AUS',\n",
      "                 'line': ['400 George Street'],\n",
      "                 'postalCode': '4000',\n",
      "                 'state': 'QLD',\n",
      "                 'use': 'work'}],\n",
      "  'birthDate': '2019-11-23',\n",
      "  'gender': 'male',\n",
      "  'id': 'afbf6c1f-ff4c-452a-9cab-8812ff486821',\n",
      "  'identifier': [ { 'system': 'http://ns.electronichealth.net.au/id/hi/ihi/1.0',\n",
      "                    'type': { 'coding': [ { 'code': 'NI',\n",
      "                                            'display': 'National unique '\n",
      "                                                       'individual identifier',\n",
      "                                            'system': 'http://hl7.org/fhir/v2/0203'}],\n",
      "                              'text': 'IHI'},\n",
      "                    'value': '8003608166690503'},\n",
      "                  { 'assigner': {'display': 'Acme Healthcare'},\n",
      "                    'period': {'start': '2001-05-06'},\n",
      "                    'system': 'urn:oid:1.2.36.146.595.217.0.1',\n",
      "                    'type': { 'coding': [ { 'code': 'MR',\n",
      "                                            'system': 'http://hl7.org/fhir/v2/0203'}]},\n",
      "                    'use': 'usual',\n",
      "                    'value': '6666'}],\n",
      "  'maritalStatus': { 'coding': [ { 'code': 'M',\n",
      "                                   'display': 'Married',\n",
      "                                   'system': 'http://hl7.org/fhir/v3/MaritalStatus'}]},\n",
      "  'meta': {'lastUpdated': '2021-07-14T09:06:40.866+00:00', 'versionId': '2'},\n",
      "  'name': [ { 'family': 'Chapman',\n",
      "              'given': ['Brian', 'Earl'],\n",
      "              'prefix': ['Dr.'],\n",
      "              'text': 'Brian Chapman',\n",
      "              'use': 'official'}],\n",
      "  'resourceType': 'Patient',\n",
      "  'telecom': [{'system': 'phone', 'use': 'mobile', 'value': '+61481059995'}],\n",
      "  'text': { 'div': '<div xmlns=\"http://www.w3.org/1999/xhtml\"><p>Patient: '\n",
      "                   'Fhirman, Sam</p></div>',\n",
      "            'status': 'generated'}}\n",
      "------------------------------------------\n",
      "VERSION:  3\n"
     ]
    },
    {
     "name": "stdout",
     "output_type": "stream",
     "text": [
      "200\n"
     ]
    }
   ],
   "source": [
    "versionid = 1\n",
    "while True:\n",
    "    print(\"VERSION: \", versionid)\n",
    "    rtmp = requests.get(URL+'/Patient/'+patientId+\"/_history/%d\"%versionid,\n",
    "                 headers = header_defaults)\n",
    "    print(rtmp.status_code)\n",
    "    try:\n",
    "        pp.pprint(rtmp.json())\n",
    "        print(\"-\"*42)\n",
    "        versionid += 1\n",
    "    except:\n",
    "        break\n",
    "    "
   ]
  },
  {
   "cell_type": "code",
   "execution_count": 0,
   "metadata": {
    "collapsed": false
   },
   "outputs": [
   ],
   "source": [
   ]
  },
  {
   "cell_type": "code",
   "execution_count": 0,
   "metadata": {
    "collapsed": false
   },
   "outputs": [
   ],
   "source": [
   ]
  },
  {
   "cell_type": "code",
   "execution_count": 0,
   "metadata": {
    "collapsed": false
   },
   "outputs": [
   ],
   "source": [
   ]
  }
 ],
 "metadata": {
  "anaconda-cloud": {
  },
  "kernelspec": {
   "display_name": "Python 3 (system-wide)",
   "language": "python",
   "metadata": {
    "cocalc": {
     "description": "Python 3 programming language",
     "priority": 100,
     "url": "https://www.python.org/"
    }
   },
   "name": "python3",
   "resource_dir": "/ext/jupyter/kernels/python3"
  },
  "language_info": {
   "codemirror_mode": {
    "name": "ipython",
    "version": 3
   },
   "file_extension": ".py",
   "mimetype": "text/x-python",
   "name": "python",
   "nbconvert_exporter": "python",
   "pygments_lexer": "ipython3",
   "version": "3.8.10"
  },
  "toc": {
   "base_numbering": 1,
   "nav_menu": {
   },
   "number_sections": true,
   "sideBar": true,
   "skip_h1_title": false,
   "title_cell": "Table of Contents",
   "title_sidebar": "Contents",
   "toc_cell": false,
   "toc_position": {
   },
   "toc_section_display": true,
   "toc_window_display": true
  }
 },
 "nbformat": 4,
 "nbformat_minor": 4
}