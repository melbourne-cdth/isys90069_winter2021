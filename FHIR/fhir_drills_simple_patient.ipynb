{
 "cells": [
  {
   "cell_type": "markdown",
   "metadata": {},
   "source": [
    "# FHIR-Drills (Simple Patient)\n",
    "\n",
    "This notebook is a rough, Jupyter translation of the FHIR-Drills tutorial based on Postman avaialble [here](https://fhir-drills.github.io/simple-patient.html). Rather than using the Python Smart on FHIR library, I'm going to use the Python requests library so that we are working more directly with the HTTP protocol and are closer to the steps described in the original tutorial than would be achieved with the FHIR Python client.\n",
    "\n",
    "For more details, please refer to the original tutorials."
   ]
  },
  {
   "cell_type": "markdown",
   "metadata": {},
   "source": [
    "FHIR is built upon web standards, particularly [Representational state transfer (REST)](https://en.wikipedia.org/wiki/Representational_state_transfer). \n",
    "\n",
    "In this tutorial we will explore RESTful operations to **C**reate, **R**ead, **U**pdate, and **D**elete (CRUD) resources with a FHIR server.\n",
    "\n",
    "These are the same standards that our web browsers work with.\n",
    "\n",
    "We will interact with the FHIR server using the Hyper Text Transfer Protocol [(HTTP)](https://en.wikipedia.org/wiki/Hypertext_Transfer_Protocol), a digital communications protocol develooped by Tim Berners-Lee at CERN. We will use the Python package [`requests`](https://requests.readthedocs.io/en/master/index.html) to implement the HTTP commands for us. `requests` will generate URLs that tell the remote server what we want to do, receive the responses from the remote servers, and convert them into Python objects we can interact with."
   ]
  },
  {
   "cell_type": "markdown",
   "metadata": {},
   "source": [
    "### Run the cell below to import the Python tools we will need for this activity."
   ]
  },
  {
   "cell_type": "code",
   "execution_count": null,
   "metadata": {},
   "outputs": [],
   "source": [
    "import requests\n",
    "from post_data import create_resource\n",
    "import pprint\n",
    "pp = pprint.PrettyPrinter(indent=2)"
   ]
  },
  {
   "cell_type": "markdown",
   "metadata": {},
   "source": [
    "## Find a patient with relevant variables"
   ]
  },
  {
   "cell_type": "markdown",
   "metadata": {},
   "source": [
    "### Create Patient and get `id`\n",
    "\n",
    "I've written some Python code to upload a patient to the server behind the scenes, mimicking what the HTML button does on the original tutorial\n",
    "\n",
    "When we invoke `create_resource()` we upload a JSON file describing a patient. When this is posted (inserted) into the remote server, this patient is assigned a unique identifier which is necessary to interact with the patient data remotely. This identifier is returned by `create_resource` and is then stored in the variable `patientId`."
   ]
  },
  {
   "cell_type": "code",
   "execution_count": null,
   "metadata": {},
   "outputs": [],
   "source": [
    "patientId = create_resource()"
   ]
  },
  {
   "cell_type": "markdown",
   "metadata": {},
   "source": [
    "### Your value of `patientId` should be different from mine\n",
    "#### We created distinct resources!"
   ]
  },
  {
   "cell_type": "code",
   "execution_count": null,
   "metadata": {},
   "outputs": [],
   "source": [
    "patientId"
   ]
  },
  {
   "cell_type": "markdown",
   "metadata": {},
   "source": [
    "### Set the headers to work with FHIR data\n",
    "\n",
    "Data transfer with HTTP relies on specifying the [media type (MIME type)](https://en.wikipedia.org/wiki/Hypertext_Transfer_Protocol). This is done with the __HTTP header__. So we need to specify that we will be using FHIR data. We will also specify what character encoding we will be using.\n",
    "\n",
    "Finally, we need to know the Uniform Resource Locator (URL) of the FHIR server."
   ]
  },
  {
   "cell_type": "code",
   "execution_count": null,
   "metadata": {},
   "outputs": [],
   "source": [
    "FHIRJSONMimeType = 'application/fhir+json'\n",
    "header_defaults = {\n",
    "            'Accept': FHIRJSONMimeType,\n",
    "            'Accept-Charset': 'UTF-8',\n",
    "        }\n",
    "URL = 'https://stu3.test.pyrohealth.net/fhir'"
   ]
  },
  {
   "cell_type": "markdown",
   "metadata": {},
   "source": [
    "To request the FHIR resource, we build up a URL based on\n",
    "\n",
    "- The base URL: `URL`\n",
    "- The resource type we want: e.g. `Patient`\n",
    "- The ID of the resoruce we want: e.g. `patientID` (returned from `create_resource()`)"
   ]
  },
  {
   "cell_type": "code",
   "execution_count": null,
   "metadata": {},
   "outputs": [],
   "source": [
    "rurl = URL+ '/Patient/'+patientId\n",
    "rurl"
   ]
  },
  {
   "cell_type": "markdown",
   "metadata": {},
   "source": [
    "#### This is just a regular URL/web address"
   ]
  },
  {
   "cell_type": "markdown",
   "metadata": {},
   "source": [
    "## Get Our Patient\n",
    "\n",
    "We will use the HTTP [GET](https://www.w3.org/Protocols/rfc2616/rfc2616-sec9.html) method to get our patient from the server.\n",
    "\n",
    "For `get` we need to tell it where to get something from (`rurl`) and also the information about the type of data we are asking for (specified in the header)"
   ]
  },
  {
   "cell_type": "code",
   "execution_count": null,
   "metadata": {},
   "outputs": [],
   "source": [
    "r = requests.get(rurl,\n",
    "                 headers = header_defaults)"
   ]
  },
  {
   "cell_type": "markdown",
   "metadata": {},
   "source": [
    "`r` contains the results of our request. It has multiple parts\n",
    "\n",
    "- `r.status_code`: Is the code returned by the remote server. `200` means success! I ran across many bad codes trying to get things working.\n",
    "- `r.headers`: The metadata about the request and response\n",
    "- `r.text`: the raw \"stuff\" returned\n",
    "- `r.json`: A method to convert the data returned by the server into a Python dictionary."
   ]
  },
  {
   "cell_type": "code",
   "execution_count": null,
   "metadata": {},
   "outputs": [],
   "source": [
    "print(r.status_code)\n"
   ]
  },
  {
   "cell_type": "markdown",
   "metadata": {},
   "source": [
    "#### A status code of 200 means everything worked correctly."
   ]
  },
  {
   "cell_type": "markdown",
   "metadata": {},
   "source": [
    "### What was returned?\n",
    "#### This is a string contained in `r.text`"
   ]
  },
  {
   "cell_type": "code",
   "execution_count": null,
   "metadata": {},
   "outputs": [],
   "source": [
    "print(r.text)"
   ]
  },
  {
   "cell_type": "markdown",
   "metadata": {},
   "source": [
    "#### We can make this more useful be converting it to a JSON object (which is what we started with!)"
   ]
  },
  {
   "cell_type": "code",
   "execution_count": null,
   "metadata": {},
   "outputs": [],
   "source": [
    "pp.pprint(r.json())"
   ]
  },
  {
   "cell_type": "markdown",
   "metadata": {},
   "source": [
    "### Get the returned content\n",
    "\n",
    "We are going to extract the returned data and use the response objects `json` method to convert the returned object to a Python dictionary. This will allow us to modify our patient. We can later put the changes we made here back on the server.\n",
    "\n",
    "__Don't worry about understanding the details of the Python__"
   ]
  },
  {
   "cell_type": "code",
   "execution_count": null,
   "metadata": {},
   "outputs": [],
   "source": [
    "patient = r.json()"
   ]
  },
  {
   "cell_type": "markdown",
   "metadata": {},
   "source": [
    "#### `patient` now contains our patient"
   ]
  },
  {
   "cell_type": "code",
   "execution_count": null,
   "metadata": {},
   "outputs": [],
   "source": [
    "pp.pprint(patient)"
   ]
  },
  {
   "cell_type": "markdown",
   "metadata": {},
   "source": [
    "Dictionary are __key__/__value__ pairs.\n",
    "\n",
    "We can list the keys with the `keys()` method.\n",
    "\n",
    "`keys()` tells us what are the pieces that make up the patient.\n",
    "\n",
    "These are the pieces of our current patient:\n",
    "\n",
    "- 'resourceType'\n",
    "- 'id'\n",
    "- 'meta'\n",
    "- 'text'\n",
    "- 'identifier'\n",
    "- 'name'\n",
    "- 'telecom'\n",
    "- 'gender'\n",
    "- 'birthDate'\n",
    "- 'address'\n",
    "- 'maritalStatus'\n",
    "\n",
    "We can look at or modify any one of these pieces."
   ]
  },
  {
   "cell_type": "code",
   "execution_count": null,
   "metadata": {},
   "outputs": [],
   "source": [
    "patient.keys()"
   ]
  },
  {
   "cell_type": "markdown",
   "metadata": {},
   "source": [
    "We access the values in the dictionary using square brackets and the keys.\n",
    "\n",
    "For example,"
   ]
  },
  {
   "cell_type": "code",
   "execution_count": null,
   "metadata": {},
   "outputs": [],
   "source": [
    "patient[\"birthDate\"]"
   ]
  },
  {
   "cell_type": "code",
   "execution_count": null,
   "metadata": {},
   "outputs": [],
   "source": [
    "patient['id']"
   ]
  },
  {
   "cell_type": "markdown",
   "metadata": {},
   "source": [
    "We can change the value by assigning a value to the key"
   ]
  },
  {
   "cell_type": "code",
   "execution_count": null,
   "metadata": {},
   "outputs": [],
   "source": [
    "patient[\"birthDate\"] = \"1970-01-01\"\n"
   ]
  },
  {
   "cell_type": "markdown",
   "metadata": {},
   "source": [
    "## Change Patient name\n",
    "\n",
    "The tutorial suggests we change the patient name to your own and then push the results up to the server. You can look [here](http://hl7.org/fhir/STU3/datatypes.html#humanname) to see what pieces can go into a name.\n",
    "\n",
    "#### For you to do: Modify the values below to match your name rather than mine\n",
    "\n",
    "#### Feel free to change the gender also"
   ]
  },
  {
   "cell_type": "code",
   "execution_count": null,
   "metadata": {},
   "outputs": [],
   "source": [
    "patient[\"name\"] = [{'family': \"Chapman\", 'given':['Brian', 'Earl'], \n",
    "              \"prefix\":\"Dr.\", \"text\":\"Brian Chapman\", \"use\":\"official\"}]"
   ]
  },
  {
   "cell_type": "markdown",
   "metadata": {},
   "source": [
    "### PUT the modified data on the server\n",
    "\n",
    "- We will use the HTTP `PUT` method to push our modified patient to the server.\n",
    "    - We tell put __where__ to PUT something (`rurl`)\n",
    "    - We tell put __what__ kind of data it is (as defined in `header_defaults`)\n",
    "    - We provide put with the actual data in the `json` parameter"
   ]
  },
  {
   "cell_type": "code",
   "execution_count": null,
   "metadata": {},
   "outputs": [],
   "source": [
    "r2 = requests.put(rurl,\n",
    "                 headers = header_defaults,\n",
    "                 json=patient)\n",
    "r2.ok"
   ]
  },
  {
   "cell_type": "markdown",
   "metadata": {},
   "source": [
    "`r2.ok` is a boolean value that basically tells you whether things went as planned."
   ]
  },
  {
   "cell_type": "markdown",
   "metadata": {},
   "source": [
    "## Verify Results"
   ]
  },
  {
   "cell_type": "code",
   "execution_count": null,
   "metadata": {},
   "outputs": [],
   "source": [
    "requests.get(URL+'/Patient/'+patientId,\n",
    "                 headers = header_defaults).json()['name']"
   ]
  },
  {
   "cell_type": "markdown",
   "metadata": {},
   "source": [
    "### Data is Modified!\n",
    "\n",
    "At least for me!"
   ]
  },
  {
   "cell_type": "markdown",
   "metadata": {},
   "source": [
    "## Delete the Resource\n",
    "\n",
    "To delete we simply use the delete method and provide the URL of the resource we want to delete."
   ]
  },
  {
   "cell_type": "code",
   "execution_count": null,
   "metadata": {},
   "outputs": [],
   "source": [
    "r3 = requests.delete(URL+'/Patient/'+patientId)\n"
   ]
  },
  {
   "cell_type": "code",
   "execution_count": null,
   "metadata": {},
   "outputs": [],
   "source": [
    "print(r3.status_code)\n",
    "print(r3.ok)"
   ]
  },
  {
   "cell_type": "markdown",
   "metadata": {},
   "source": [
    "## Verify the patient is deleted."
   ]
  },
  {
   "cell_type": "code",
   "execution_count": null,
   "metadata": {},
   "outputs": [],
   "source": [
    "rd = requests.get(URL+'/Patient/'+patientId,\n",
    "                 headers = header_defaults)"
   ]
  },
  {
   "cell_type": "code",
   "execution_count": null,
   "metadata": {},
   "outputs": [],
   "source": [
    "rd.status_code"
   ]
  },
  {
   "cell_type": "markdown",
   "metadata": {},
   "source": [
    "status code `410`  means `Gone`"
   ]
  },
  {
   "cell_type": "markdown",
   "metadata": {},
   "source": [
    "### But in healthcare we don't want to delete things!\n",
    "#### The data history is preserved!"
   ]
  },
  {
   "cell_type": "code",
   "execution_count": null,
   "metadata": {},
   "outputs": [],
   "source": [
    "versionid = 1\n",
    "while True:\n",
    "    print(\"VERSION: \", versionid)\n",
    "    rtmp = requests.get(URL+'/Patient/'+patientId+\"/_history/%d\"%versionid,\n",
    "                 headers = header_defaults)\n",
    "    print(rtmp.status_code)\n",
    "    try:\n",
    "        pp.pprint(rtmp.json())\n",
    "        print(\"-\"*42)\n",
    "        versionid += 1\n",
    "    except:\n",
    "        break\n",
    "    "
   ]
  },
  {
   "cell_type": "markdown",
   "metadata": {},
   "source": [
    "### Now rerun the cells into the notebook up to where we delete the patient.\n",
    "#### We want to find ourselves in the next notebook (fhir_drills_simple_search.ipynb)"
   ]
  },
  {
   "cell_type": "code",
   "execution_count": null,
   "metadata": {},
   "outputs": [],
   "source": []
  }
 ],
 "metadata": {
  "anaconda-cloud": {},
  "kernelspec": {
   "display_name": "Python 3 (system-wide)",
   "language": "python",
   "metadata": {
    "cocalc": {
     "description": "Python 3 programming language",
     "priority": 100,
     "url": "https://www.python.org/"
    }
   },
   "name": "python3",
   "resource_dir": "/ext/jupyter/kernels/python3"
  },
  "language_info": {
   "codemirror_mode": {
    "name": "ipython",
    "version": 3
   },
   "file_extension": ".py",
   "mimetype": "text/x-python",
   "name": "python",
   "nbconvert_exporter": "python",
   "pygments_lexer": "ipython3",
   "version": "3.8.10"
  },
  "toc": {
   "base_numbering": 1,
   "nav_menu": {},
   "number_sections": true,
   "sideBar": true,
   "skip_h1_title": false,
   "title_cell": "Table of Contents",
   "title_sidebar": "Contents",
   "toc_cell": false,
   "toc_position": {},
   "toc_section_display": true,
   "toc_window_display": true
  }
 },
 "nbformat": 4,
 "nbformat_minor": 4
}
