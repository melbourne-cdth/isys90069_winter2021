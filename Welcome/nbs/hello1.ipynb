{
 "cells": [
  {
   "cell_type": "markdown",
   "metadata": {},
   "source": [
    "# Welcome to ISYS90069 Winter 2021\n",
    "## The Digital Transformation of Health\n",
    "\n",
    "This is a simple demonstration of a Jupyter notebook. Jupyter notebooks allow us to run code through your web browser. The notebooks consist of three types of cells.\n",
    "\n",
    "- Markdown cells (like this one) that get rendered as HTML\n",
    "- Code cells (like the cell just below this one)\n",
    "- Output cells (generated when you run a code cell.\n",
    "\n",
    "You run a cell by clicking on the cell and either\n",
    "\n",
    "- Clicking on the `run` button above\n",
    "- Typing \"shift-enter\"\n",
    "- Typing \"ctrl-enter\"\n",
    "\n",
    "Play around with this and see if you can get everything to work properly.\n",
    "\n",
    "This notebook has two code cells.\n",
    "\n",
    "- In the first we use the function `input` to get your name and store it in a variable named `name` (don't worry about understanding this; this notebooks is mostly just for comparison with `hello2`).\n",
    "- In the second, we print a greeting using the name you entered and we stored in `name`"
   ]
  },
  {
   "cell_type": "code",
   "execution_count": null,
   "metadata": {},
   "outputs": [],
   "source": [
    "name = input(\"Please enter your name:\\n\")"
   ]
  },
  {
   "cell_type": "code",
   "execution_count": null,
   "metadata": {},
   "outputs": [],
   "source": [
    "print(f\"Hello, {name}!\")"
   ]
  },
  {
   "cell_type": "code",
   "execution_count": null,
   "metadata": {},
   "outputs": [],
   "source": []
  }
 ],
 "metadata": {
  "kernelspec": {
   "display_name": "Python 3 (system-wide)",
   "language": "python",
   "metadata": {
    "cocalc": {
     "description": "Python 3 programming language",
     "priority": 100,
     "url": "https://www.python.org/"
    }
   },
   "name": "python3",
   "resource_dir": "/ext/jupyter/kernels/python3"
  },
  "language_info": {
   "codemirror_mode": {
    "name": "ipython",
    "version": 3
   },
   "file_extension": ".py",
   "mimetype": "text/x-python",
   "name": "python",
   "nbconvert_exporter": "python",
   "pygments_lexer": "ipython3",
   "version": "3.8.2"
  }
 },
 "nbformat": 4,
 "nbformat_minor": 4
}
