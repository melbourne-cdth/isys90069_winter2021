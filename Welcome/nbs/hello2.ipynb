{
 "cells": [
  {
   "cell_type": "markdown",
   "metadata": {},
   "source": [
    "# Welcome again to ISYS90069 Winter 2021\n",
    "## The Digital Transformation of Health\n",
    "\n",
    "\n",
    "Since this is not a programming class and we don't expect that you know a programming language like Python (which I'm using here), we will usually be providing you with notebooks where you interact with data, etc. through __widgets__.\n",
    "\n",
    "This notebook will demonstrate widgets to create a more personally suitable gretting. As with `hello` we get yuor name, but instead of a using a Python function to assign a value to a variable (`name`).\n",
    "\n",
    "Behind the scenes, we use Google Translate to render the greeting in the language of your choice."
   ]
  },
  {
   "cell_type": "code",
   "execution_count": null,
   "metadata": {},
   "outputs": [],
   "source": [
    "import hello"
   ]
  },
  {
   "cell_type": "code",
   "execution_count": null,
   "metadata": {},
   "outputs": [],
   "source": [
    "languages = [(\"English\",\"en\"), \n",
    "             (\"Spanish\",\"es\"), \n",
    "             (\"Chinese\",\"zh\"),            \n",
    "             (\"Korean\",\"ko\"), \n",
    "             (\"Hindi\",\"hi\"), \n",
    "             (\"Persian\",\"fa\"), \n",
    "             (\"Arabic\",\"ar\")]"
   ]
  },
  {
   "cell_type": "code",
   "execution_count": null,
   "metadata": {},
   "outputs": [],
   "source": [
    "hello.create_welcome(languages)"
   ]
  },
  {
   "cell_type": "markdown",
   "metadata": {},
   "source": [
    "### Modifying the notebook\n",
    "\n",
    "I may not have provided your favorite language in the list to select from. You can modify the program, by adding\n",
    "a _tuple_ of a label, and an [ISO 639-1 language code](https://en.wikipedia.org/wiki/List_of_ISO_639-1_codes) and then rerunning the cells. For example, if I wanted to add French, `languages` might look like this:\n",
    "\n",
    "```Python\n",
    "languages = [(\"English\",\"en\"), \n",
    "             (\"Spanish\",\"es\"), \n",
    "             (\"Chinese\",\"zh\"),            \n",
    "             (\"Korean\",\"ko\"), \n",
    "             (\"Hindi\",\"hi\"), \n",
    "             (\"French\", \"fr\"),\n",
    "             (\"Persian\",\"fa\"), \n",
    "             (\"Arabic\",\"ar\")]\n",
    "```\n",
    "\n",
    "Can you understand the syntax (the rules) for putting symbols together?\n",
    "\n",
    "- All the tuples are within the square brackets.\n",
    "- commas separate the tuples\n",
    "- etc."
   ]
  },
  {
   "cell_type": "code",
   "execution_count": null,
   "metadata": {},
   "outputs": [],
   "source": []
  }
 ],
 "metadata": {
  "@webio": {
   "lastCommId": null,
   "lastKernelId": null
  },
  "kernelspec": {
   "display_name": "Python 3 (system-wide)",
   "language": "python",
   "metadata": {
    "cocalc": {
     "description": "Python 3 programming language",
     "priority": 100,
     "url": "https://www.python.org/"
    }
   },
   "name": "python3",
   "resource_dir": "/ext/jupyter/kernels/python3"
  },
  "language_info": {
   "codemirror_mode": {
    "name": "ipython",
    "version": 3
   },
   "file_extension": ".py",
   "mimetype": "text/x-python",
   "name": "python",
   "nbconvert_exporter": "python",
   "pygments_lexer": "ipython3",
   "version": "3.8.5"
  }
 },
 "nbformat": 4,
 "nbformat_minor": 4
}
