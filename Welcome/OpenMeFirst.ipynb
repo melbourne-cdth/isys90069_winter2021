{
 "cells": [
  {
   "cell_type": "markdown",
   "metadata": {},
   "source": [
    "# Using CoCalc for The Digital Transformation of Health\n",
    "\n",
    "In order to make this class more interactive and (hopefully) more fun, we are going to be using Jupyter notebooks to explore data, standards, AI, etc. This will primarily be done during the tutorials, but some module assignments will make use of Jupyter notebooks. \n",
    "\n",
    "We will \"hide\" most of the underlying code from you and focus on providing you interactive experiences through widgets, as I'll demonstrate in later notebooks.\n",
    "\n",
    "The notebooks consist of three types of cells.\n",
    "\n",
    "- Markdown cells (like this one) that get rendered as HTML\n",
    "- Code cells (like the cell just below this one)\n",
    "- Output cells (generated when you run a code cell.\n",
    "\n",
    "You run a cell by clicking on the cell and either\n",
    "\n",
    "- Clicking on the `run` button above\n",
    "- Typing \"shift-enter\"\n",
    "- Typing \"ctrl-enter\"\n",
    "\n",
    "In order for my demonstration to work, we need to install a software package for interacting with Google Transalte. In order to do this, run the following cell."
   ]
  },
  {
   "cell_type": "code",
   "execution_count": null,
   "metadata": {},
   "outputs": [],
   "source": [
    "import subprocess\n",
    "subprocess.run([\"python3\", \"-m\", \"pip\", \"install\", \"google-translate.py\"])"
   ]
  },
  {
   "cell_type": "markdown",
   "metadata": {},
   "source": [
    "This should generate something that looks like this:\n",
    "\n",
    "```\n",
    "CompletedProcess(args=['python3', '-m', 'pip', 'install', 'google-translate.py'], returncode=0)\n",
    "```\n",
    "\n",
    "If `returncode=0` that means the package was installed successfully.\n",
    "\n",
    "You can now run the other two notebooks. Clicking on the links below should open each notebook.\n",
    "\n",
    "- [hello1](nbs/hello1.ipynb)\n",
    "- [hello2](nbs/hello2.ipynb)"
   ]
  },
  {
   "cell_type": "code",
   "execution_count": null,
   "metadata": {},
   "outputs": [],
   "source": []
  }
 ],
 "metadata": {
  "kernelspec": {
   "display_name": "Python 3 (system-wide)",
   "language": "python",
   "metadata": {
    "cocalc": {
     "description": "Python 3 programming language",
     "priority": 100,
     "url": "https://www.python.org/"
    }
   },
   "name": "python3",
   "resource_dir": "/ext/jupyter/kernels/python3"
  },
  "language_info": {
   "codemirror_mode": {
    "name": "ipython",
    "version": 3
   },
   "file_extension": ".py",
   "mimetype": "text/x-python",
   "name": "python",
   "nbconvert_exporter": "python",
   "pygments_lexer": "ipython3",
   "version": "3.8.2"
  }
 },
 "nbformat": 4,
 "nbformat_minor": 4
}
